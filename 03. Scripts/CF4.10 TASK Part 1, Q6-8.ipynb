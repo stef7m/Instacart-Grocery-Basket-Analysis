{
 "cells": [
  {
   "cell_type": "markdown",
   "id": "3e16e74f",
   "metadata": {},
   "source": [
    "# Importing libraries, df_act_cust_final & checking outcome"
   ]
  },
  {
   "cell_type": "code",
   "execution_count": 1,
   "id": "da1c52fb",
   "metadata": {},
   "outputs": [],
   "source": [
    "import pandas as pd\n",
    "import numpy as np\n",
    "import os\n",
    "import matplotlib.pyplot as plt\n",
    "import seaborn as sns\n",
    "import scipy\n",
    "import matplotlib.colors as mcolors"
   ]
  },
  {
   "cell_type": "code",
   "execution_count": 2,
   "id": "90d78570",
   "metadata": {},
   "outputs": [],
   "source": [
    "path=r'/Users/stefaniadaskalaki/Data Immersion/4 Achievement Python/CF4.2 Instacart Basket Analysis'"
   ]
  },
  {
   "cell_type": "code",
   "execution_count": 3,
   "id": "cf863cd9",
   "metadata": {},
   "outputs": [],
   "source": [
    "df_act_cust_final=pd.read_pickle(os.path.join(path, '02. Data', '02. Prepared Data', 'df_act_cust.final.pkl'))"
   ]
  },
  {
   "cell_type": "markdown",
   "id": "d479c695",
   "metadata": {},
   "source": [
    "## Setting wide option display for df and checking outcome"
   ]
  },
  {
   "cell_type": "code",
   "execution_count": 4,
   "id": "a04825e0",
   "metadata": {},
   "outputs": [],
   "source": [
    "pd.set_option('display.max_columns', 50)"
   ]
  },
  {
   "cell_type": "code",
   "execution_count": 5,
   "id": "b5db5336",
   "metadata": {},
   "outputs": [
    {
     "data": {
      "text/html": [
       "<div>\n",
       "<style scoped>\n",
       "    .dataframe tbody tr th:only-of-type {\n",
       "        vertical-align: middle;\n",
       "    }\n",
       "\n",
       "    .dataframe tbody tr th {\n",
       "        vertical-align: top;\n",
       "    }\n",
       "\n",
       "    .dataframe thead th {\n",
       "        text-align: right;\n",
       "    }\n",
       "</style>\n",
       "<table border=\"1\" class=\"dataframe\">\n",
       "  <thead>\n",
       "    <tr style=\"text-align: right;\">\n",
       "      <th></th>\n",
       "      <th>order_id</th>\n",
       "      <th>user_id</th>\n",
       "      <th>order_number</th>\n",
       "      <th>order_day_of_week</th>\n",
       "      <th>order_hour_of_day</th>\n",
       "      <th>days_since_prior_order</th>\n",
       "      <th>new_customer</th>\n",
       "      <th>product_id</th>\n",
       "      <th>add_to_cart_order</th>\n",
       "      <th>reordered</th>\n",
       "      <th>product_name</th>\n",
       "      <th>aisle_id</th>\n",
       "      <th>department_id</th>\n",
       "      <th>prices</th>\n",
       "      <th>price_range_loc</th>\n",
       "      <th>Busiest_day</th>\n",
       "      <th>Busiest_days</th>\n",
       "      <th>busiest_period_of_day</th>\n",
       "      <th>max_order</th>\n",
       "      <th>loyalty_flag</th>\n",
       "      <th>avg_price</th>\n",
       "      <th>spending_flag</th>\n",
       "      <th>frequency_order_median</th>\n",
       "      <th>frequency_order_median_flag</th>\n",
       "      <th>first_name</th>\n",
       "      <th>surname</th>\n",
       "      <th>gender</th>\n",
       "      <th>state</th>\n",
       "      <th>age</th>\n",
       "      <th>date_joined</th>\n",
       "      <th>n_dependants</th>\n",
       "      <th>fam_status</th>\n",
       "      <th>income</th>\n",
       "      <th>exists</th>\n",
       "      <th>region</th>\n",
       "      <th>activity_flag</th>\n",
       "      <th>age_flag</th>\n",
       "      <th>income_flag</th>\n",
       "      <th>family_flag</th>\n",
       "      <th>department</th>\n",
       "      <th>shopping_basket</th>\n",
       "    </tr>\n",
       "  </thead>\n",
       "  <tbody>\n",
       "    <tr>\n",
       "      <th>0</th>\n",
       "      <td>2539329</td>\n",
       "      <td>1</td>\n",
       "      <td>1</td>\n",
       "      <td>2</td>\n",
       "      <td>8</td>\n",
       "      <td>NaN</td>\n",
       "      <td>True</td>\n",
       "      <td>196</td>\n",
       "      <td>1</td>\n",
       "      <td>0</td>\n",
       "      <td>Soda</td>\n",
       "      <td>77</td>\n",
       "      <td>7</td>\n",
       "      <td>9.0</td>\n",
       "      <td>Mid-range product</td>\n",
       "      <td>Regularly busy</td>\n",
       "      <td>Regularly busy</td>\n",
       "      <td>Average orders</td>\n",
       "      <td>10</td>\n",
       "      <td>New customer</td>\n",
       "      <td>14.0</td>\n",
       "      <td>High spender</td>\n",
       "      <td>30.0</td>\n",
       "      <td>Non-frequent customer</td>\n",
       "      <td>Linda</td>\n",
       "      <td>Nguyen</td>\n",
       "      <td>Female</td>\n",
       "      <td>Alabama</td>\n",
       "      <td>31</td>\n",
       "      <td>2/17/2019</td>\n",
       "      <td>3</td>\n",
       "      <td>married</td>\n",
       "      <td>40423</td>\n",
       "      <td>both</td>\n",
       "      <td>South</td>\n",
       "      <td>High activity</td>\n",
       "      <td>Young adult</td>\n",
       "      <td>Low</td>\n",
       "      <td>Large family</td>\n",
       "      <td>{'department_id': 8, 'department': 'pets'}</td>\n",
       "      <td>Non essentials</td>\n",
       "    </tr>\n",
       "    <tr>\n",
       "      <th>1</th>\n",
       "      <td>2398795</td>\n",
       "      <td>1</td>\n",
       "      <td>2</td>\n",
       "      <td>3</td>\n",
       "      <td>7</td>\n",
       "      <td>15.0</td>\n",
       "      <td>False</td>\n",
       "      <td>196</td>\n",
       "      <td>1</td>\n",
       "      <td>1</td>\n",
       "      <td>Soda</td>\n",
       "      <td>77</td>\n",
       "      <td>7</td>\n",
       "      <td>9.0</td>\n",
       "      <td>Mid-range product</td>\n",
       "      <td>Regularly busy</td>\n",
       "      <td>Slowest days</td>\n",
       "      <td>Average orders</td>\n",
       "      <td>10</td>\n",
       "      <td>New customer</td>\n",
       "      <td>14.0</td>\n",
       "      <td>High spender</td>\n",
       "      <td>30.0</td>\n",
       "      <td>Non-frequent customer</td>\n",
       "      <td>Linda</td>\n",
       "      <td>Nguyen</td>\n",
       "      <td>Female</td>\n",
       "      <td>Alabama</td>\n",
       "      <td>31</td>\n",
       "      <td>2/17/2019</td>\n",
       "      <td>3</td>\n",
       "      <td>married</td>\n",
       "      <td>40423</td>\n",
       "      <td>both</td>\n",
       "      <td>South</td>\n",
       "      <td>High activity</td>\n",
       "      <td>Young adult</td>\n",
       "      <td>Low</td>\n",
       "      <td>Large family</td>\n",
       "      <td>{'department_id': 8, 'department': 'pets'}</td>\n",
       "      <td>Non essentials</td>\n",
       "    </tr>\n",
       "    <tr>\n",
       "      <th>2</th>\n",
       "      <td>473747</td>\n",
       "      <td>1</td>\n",
       "      <td>3</td>\n",
       "      <td>3</td>\n",
       "      <td>12</td>\n",
       "      <td>21.0</td>\n",
       "      <td>False</td>\n",
       "      <td>196</td>\n",
       "      <td>1</td>\n",
       "      <td>1</td>\n",
       "      <td>Soda</td>\n",
       "      <td>77</td>\n",
       "      <td>7</td>\n",
       "      <td>9.0</td>\n",
       "      <td>Mid-range product</td>\n",
       "      <td>Regularly busy</td>\n",
       "      <td>Slowest days</td>\n",
       "      <td>Most orders</td>\n",
       "      <td>10</td>\n",
       "      <td>New customer</td>\n",
       "      <td>14.0</td>\n",
       "      <td>High spender</td>\n",
       "      <td>30.0</td>\n",
       "      <td>Non-frequent customer</td>\n",
       "      <td>Linda</td>\n",
       "      <td>Nguyen</td>\n",
       "      <td>Female</td>\n",
       "      <td>Alabama</td>\n",
       "      <td>31</td>\n",
       "      <td>2/17/2019</td>\n",
       "      <td>3</td>\n",
       "      <td>married</td>\n",
       "      <td>40423</td>\n",
       "      <td>both</td>\n",
       "      <td>South</td>\n",
       "      <td>High activity</td>\n",
       "      <td>Young adult</td>\n",
       "      <td>Low</td>\n",
       "      <td>Large family</td>\n",
       "      <td>{'department_id': 8, 'department': 'pets'}</td>\n",
       "      <td>Non essentials</td>\n",
       "    </tr>\n",
       "    <tr>\n",
       "      <th>3</th>\n",
       "      <td>2254736</td>\n",
       "      <td>1</td>\n",
       "      <td>4</td>\n",
       "      <td>4</td>\n",
       "      <td>7</td>\n",
       "      <td>29.0</td>\n",
       "      <td>False</td>\n",
       "      <td>196</td>\n",
       "      <td>1</td>\n",
       "      <td>1</td>\n",
       "      <td>Soda</td>\n",
       "      <td>77</td>\n",
       "      <td>7</td>\n",
       "      <td>9.0</td>\n",
       "      <td>Mid-range product</td>\n",
       "      <td>Least busy</td>\n",
       "      <td>Slowest days</td>\n",
       "      <td>Average orders</td>\n",
       "      <td>10</td>\n",
       "      <td>New customer</td>\n",
       "      <td>14.0</td>\n",
       "      <td>High spender</td>\n",
       "      <td>30.0</td>\n",
       "      <td>Non-frequent customer</td>\n",
       "      <td>Linda</td>\n",
       "      <td>Nguyen</td>\n",
       "      <td>Female</td>\n",
       "      <td>Alabama</td>\n",
       "      <td>31</td>\n",
       "      <td>2/17/2019</td>\n",
       "      <td>3</td>\n",
       "      <td>married</td>\n",
       "      <td>40423</td>\n",
       "      <td>both</td>\n",
       "      <td>South</td>\n",
       "      <td>High activity</td>\n",
       "      <td>Young adult</td>\n",
       "      <td>Low</td>\n",
       "      <td>Large family</td>\n",
       "      <td>{'department_id': 8, 'department': 'pets'}</td>\n",
       "      <td>Non essentials</td>\n",
       "    </tr>\n",
       "    <tr>\n",
       "      <th>4</th>\n",
       "      <td>431534</td>\n",
       "      <td>1</td>\n",
       "      <td>5</td>\n",
       "      <td>4</td>\n",
       "      <td>15</td>\n",
       "      <td>28.0</td>\n",
       "      <td>False</td>\n",
       "      <td>196</td>\n",
       "      <td>1</td>\n",
       "      <td>1</td>\n",
       "      <td>Soda</td>\n",
       "      <td>77</td>\n",
       "      <td>7</td>\n",
       "      <td>9.0</td>\n",
       "      <td>Mid-range product</td>\n",
       "      <td>Least busy</td>\n",
       "      <td>Slowest days</td>\n",
       "      <td>Most orders</td>\n",
       "      <td>10</td>\n",
       "      <td>New customer</td>\n",
       "      <td>14.0</td>\n",
       "      <td>High spender</td>\n",
       "      <td>30.0</td>\n",
       "      <td>Non-frequent customer</td>\n",
       "      <td>Linda</td>\n",
       "      <td>Nguyen</td>\n",
       "      <td>Female</td>\n",
       "      <td>Alabama</td>\n",
       "      <td>31</td>\n",
       "      <td>2/17/2019</td>\n",
       "      <td>3</td>\n",
       "      <td>married</td>\n",
       "      <td>40423</td>\n",
       "      <td>both</td>\n",
       "      <td>South</td>\n",
       "      <td>High activity</td>\n",
       "      <td>Young adult</td>\n",
       "      <td>Low</td>\n",
       "      <td>Large family</td>\n",
       "      <td>{'department_id': 8, 'department': 'pets'}</td>\n",
       "      <td>Non essentials</td>\n",
       "    </tr>\n",
       "  </tbody>\n",
       "</table>\n",
       "</div>"
      ],
      "text/plain": [
       "  order_id user_id order_number order_day_of_week order_hour_of_day  \\\n",
       "0  2539329       1            1                 2                 8   \n",
       "1  2398795       1            2                 3                 7   \n",
       "2   473747       1            3                 3                12   \n",
       "3  2254736       1            4                 4                 7   \n",
       "4   431534       1            5                 4                15   \n",
       "\n",
       "   days_since_prior_order  new_customer product_id  add_to_cart_order  \\\n",
       "0                     NaN          True        196                  1   \n",
       "1                    15.0         False        196                  1   \n",
       "2                    21.0         False        196                  1   \n",
       "3                    29.0         False        196                  1   \n",
       "4                    28.0         False        196                  1   \n",
       "\n",
       "   reordered product_name aisle_id department_id  prices    price_range_loc  \\\n",
       "0          0         Soda       77             7     9.0  Mid-range product   \n",
       "1          1         Soda       77             7     9.0  Mid-range product   \n",
       "2          1         Soda       77             7     9.0  Mid-range product   \n",
       "3          1         Soda       77             7     9.0  Mid-range product   \n",
       "4          1         Soda       77             7     9.0  Mid-range product   \n",
       "\n",
       "      Busiest_day    Busiest_days busiest_period_of_day  max_order  \\\n",
       "0  Regularly busy  Regularly busy        Average orders         10   \n",
       "1  Regularly busy    Slowest days        Average orders         10   \n",
       "2  Regularly busy    Slowest days           Most orders         10   \n",
       "3      Least busy    Slowest days        Average orders         10   \n",
       "4      Least busy    Slowest days           Most orders         10   \n",
       "\n",
       "   loyalty_flag  avg_price spending_flag  frequency_order_median  \\\n",
       "0  New customer       14.0  High spender                    30.0   \n",
       "1  New customer       14.0  High spender                    30.0   \n",
       "2  New customer       14.0  High spender                    30.0   \n",
       "3  New customer       14.0  High spender                    30.0   \n",
       "4  New customer       14.0  High spender                    30.0   \n",
       "\n",
       "  frequency_order_median_flag first_name surname  gender    state  age  \\\n",
       "0       Non-frequent customer      Linda  Nguyen  Female  Alabama   31   \n",
       "1       Non-frequent customer      Linda  Nguyen  Female  Alabama   31   \n",
       "2       Non-frequent customer      Linda  Nguyen  Female  Alabama   31   \n",
       "3       Non-frequent customer      Linda  Nguyen  Female  Alabama   31   \n",
       "4       Non-frequent customer      Linda  Nguyen  Female  Alabama   31   \n",
       "\n",
       "  date_joined  n_dependants fam_status  income exists region  activity_flag  \\\n",
       "0   2/17/2019             3    married   40423   both  South  High activity   \n",
       "1   2/17/2019             3    married   40423   both  South  High activity   \n",
       "2   2/17/2019             3    married   40423   both  South  High activity   \n",
       "3   2/17/2019             3    married   40423   both  South  High activity   \n",
       "4   2/17/2019             3    married   40423   both  South  High activity   \n",
       "\n",
       "      age_flag income_flag   family_flag  \\\n",
       "0  Young adult         Low  Large family   \n",
       "1  Young adult         Low  Large family   \n",
       "2  Young adult         Low  Large family   \n",
       "3  Young adult         Low  Large family   \n",
       "4  Young adult         Low  Large family   \n",
       "\n",
       "                                   department shopping_basket  \n",
       "0  {'department_id': 8, 'department': 'pets'}  Non essentials  \n",
       "1  {'department_id': 8, 'department': 'pets'}  Non essentials  \n",
       "2  {'department_id': 8, 'department': 'pets'}  Non essentials  \n",
       "3  {'department_id': 8, 'department': 'pets'}  Non essentials  \n",
       "4  {'department_id': 8, 'department': 'pets'}  Non essentials  "
      ]
     },
     "execution_count": 5,
     "metadata": {},
     "output_type": "execute_result"
    }
   ],
   "source": [
    "df_act_cust_final.head()"
   ]
  },
  {
   "cell_type": "code",
   "execution_count": 6,
   "id": "465a0960",
   "metadata": {},
   "outputs": [
    {
     "data": {
      "text/plain": [
       "(30964564, 41)"
      ]
     },
     "execution_count": 6,
     "metadata": {},
     "output_type": "execute_result"
    }
   ],
   "source": [
    "df_act_cust_final.shape"
   ]
  },
  {
   "cell_type": "markdown",
   "id": "d319fc26",
   "metadata": {},
   "source": [
    "# 6. Create an appropriate visualization to show the distribution of profiles"
   ]
  },
  {
   "cell_type": "markdown",
   "id": "19a44cee",
   "metadata": {},
   "source": [
    "## Age_flag profile"
   ]
  },
  {
   "cell_type": "code",
   "execution_count": 7,
   "id": "7eda7ba4",
   "metadata": {},
   "outputs": [
    {
     "data": {
      "text/plain": [
       "Text(0.5, 1.0, 'Orders by Age Flag')"
      ]
     },
     "execution_count": 7,
     "metadata": {},
     "output_type": "execute_result"
    },
    {
     "data": {
      "image/png": "[encoded data removed]",
      "text/plain": [
       "<Figure size 640x480 with 1 Axes>"
      ]
     },
     "metadata": {},
     "output_type": "display_data"
    }
   ],
   "source": [
    "bar_prof1=df_act_cust_final['age_flag'].value_counts().plot.bar(color=['#78892B','#89582B','#b5838d','#618CB4'])\n",
    "plt.ylabel('Orders Count')\n",
    "plt.title('Orders by Age Flag',fontsize=12)"
   ]
  },
  {
   "cell_type": "code",
   "execution_count": 8,
   "id": "706c9fd5",
   "metadata": {},
   "outputs": [],
   "source": [
    "# Exporting chart\n",
    "\n",
    "bar_prof1.figure.savefig(os.path.join(path, '04. Analysis', '01. Visualisations', 'age_prof1.png'))"
   ]
  },
  {
   "cell_type": "markdown",
   "id": "d4cefc47",
   "metadata": {},
   "source": [
    "## Income_flag profile"
   ]
  },
  {
   "cell_type": "code",
   "execution_count": 9,
   "id": "b1f90e1e",
   "metadata": {},
   "outputs": [
    {
     "data": {
      "text/plain": [
       "Text(0.5, 1.0, 'Orders by Income Flag')"
      ]
     },
     "execution_count": 9,
     "metadata": {},
     "output_type": "execute_result"
    },
    {
     "data": {
      "image/png": "[encoded data removed]",
      "text/plain": [
       "<Figure size 640x480 with 1 Axes>"
      ]
     },
     "metadata": {},
     "output_type": "display_data"
    }
   ],
   "source": [
    "bar_prof2=df_act_cust_final['income_flag'].value_counts().plot.bar(color=['#210B5A','#554E66','#b5838d','#618CB4'])\n",
    "plt.ylabel('Orders Count')\n",
    "plt.xlabel('Income Categories')\n",
    "plt.title('Orders by Income Flag',fontsize=12)"
   ]
  },
  {
   "cell_type": "code",
   "execution_count": 10,
   "id": "e5fef1c6",
   "metadata": {},
   "outputs": [],
   "source": [
    "# Exporting chart\n",
    "\n",
    "bar_prof2.figure.savefig(os.path.join(path, '04. Analysis', '01. Visualisations', 'income_prof2.png'))"
   ]
  },
  {
   "cell_type": "markdown",
   "id": "8292e0db",
   "metadata": {},
   "source": [
    "## Family_flag profile"
   ]
  },
  {
   "cell_type": "code",
   "execution_count": 11,
   "id": "aa847627",
   "metadata": {},
   "outputs": [
    {
     "data": {
      "text/plain": [
       "Text(0.5, 1.0, 'Orders by Family Flag')"
      ]
     },
     "execution_count": 11,
     "metadata": {},
     "output_type": "execute_result"
    },
    {
     "data": {
      "image/png": "[encoded data removed]",
      "text/plain": [
       "<Figure size 640x480 with 1 Axes>"
      ]
     },
     "metadata": {},
     "output_type": "display_data"
    }
   ],
   "source": [
    "bar_prof3=df_act_cust_final['family_flag'].value_counts().plot.bar(color=['#7F739D','#959791','#b5838d','#618CB4'])\n",
    "plt.ylabel('Orders Count')\n",
    "plt.xlabel('Family Categories')\n",
    "plt.title('Orders by Family Flag',fontsize=12)"
   ]
  },
  {
   "cell_type": "code",
   "execution_count": 12,
   "id": "d157a27c",
   "metadata": {},
   "outputs": [],
   "source": [
    "# Exporting chart\n",
    "\n",
    "bar_prof3.figure.savefig(os.path.join(path, '04. Analysis', '01. Visualisations', 'fam_prof3.png'))"
   ]
  },
  {
   "cell_type": "markdown",
   "id": "354ad3a5",
   "metadata": {},
   "source": [
    "## Fam_status profile"
   ]
  },
  {
   "cell_type": "code",
   "execution_count": 13,
   "id": "be148889",
   "metadata": {},
   "outputs": [
    {
     "data": {
      "text/plain": [
       "Text(0.5, 1.0, 'Orders by Family Status')"
      ]
     },
     "execution_count": 13,
     "metadata": {},
     "output_type": "execute_result"
    },
    {
     "data": {
      "image/png": "[encoded data removed]",
      "text/plain": [
       "<Figure size 640x480 with 1 Axes>"
      ]
     },
     "metadata": {},
     "output_type": "display_data"
    }
   ],
   "source": [
    "bar_prof4=df_act_cust_final['fam_status'].value_counts().plot.bar(color=['#210B5A','#78892B','#b5838d','#DAF7A6'])\n",
    "plt.ylabel('Orders Count')\n",
    "plt.title('Orders by Family Status',fontsize=12)"
   ]
  },
  {
   "cell_type": "code",
   "execution_count": 14,
   "id": "c1c276f9",
   "metadata": {},
   "outputs": [],
   "source": [
    "# Exporting chart\n",
    "\n",
    "bar_prof4.figure.savefig(os.path.join(path, '04. Analysis', '01. Visualisations', 'fam_prof4.png'))"
   ]
  },
  {
   "cell_type": "markdown",
   "id": "8b215106",
   "metadata": {},
   "source": [
    "## Loyalty_flag profile"
   ]
  },
  {
   "cell_type": "code",
   "execution_count": 15,
   "id": "3ef949da",
   "metadata": {},
   "outputs": [
    {
     "data": {
      "text/plain": [
       "Text(0.5, 1.0, 'Orders by Loyalty Status')"
      ]
     },
     "execution_count": 15,
     "metadata": {},
     "output_type": "execute_result"
    },
    {
     "data": {
      "image/png": "[encoded data removed]",
      "text/plain": [
       "<Figure size 640x480 with 1 Axes>"
      ]
     },
     "metadata": {},
     "output_type": "display_data"
    }
   ],
   "source": [
    "bar_prof5=df_act_cust_final['loyalty_flag'].value_counts().plot.bar(color=['#814208','#084781','#b5838d','#DAF7A6'])\n",
    "plt.ylabel('Orders Count')\n",
    "plt.title('Orders by Loyalty Status',fontsize=12)"
   ]
  },
  {
   "cell_type": "code",
   "execution_count": 16,
   "id": "1b2ab958",
   "metadata": {},
   "outputs": [],
   "source": [
    "# Exporting chart\n",
    "\n",
    "bar_prof5.figure.savefig(os.path.join(path, '04. Analysis', '01. Visualisations', 'loyal_prof5.png'))"
   ]
  },
  {
   "cell_type": "markdown",
   "id": "a1cd9768",
   "metadata": {},
   "source": [
    "# 7. Aggregate the max, mean, and min variables on a customer-profile level for usage frequency and expenditure."
   ]
  },
  {
   "cell_type": "markdown",
   "id": "123e8c7e",
   "metadata": {},
   "source": [
    "## Aggregating for age_flag usage frequency /expenditure"
   ]
  },
  {
   "cell_type": "code",
   "execution_count": 17,
   "id": "ddf73c36",
   "metadata": {
    "scrolled": true
   },
   "outputs": [],
   "source": [
    "age_freq=df_act_cust_final.groupby('age_flag').agg({'days_since_prior_order': ['mean', 'min', 'max']})"
   ]
  },
  {
   "cell_type": "code",
   "execution_count": 18,
   "id": "eccb6677",
   "metadata": {
    "scrolled": true
   },
   "outputs": [
    {
     "data": {
      "text/html": [
       "<div>\n",
       "<style scoped>\n",
       "    .dataframe tbody tr th:only-of-type {\n",
       "        vertical-align: middle;\n",
       "    }\n",
       "\n",
       "    .dataframe tbody tr th {\n",
       "        vertical-align: top;\n",
       "    }\n",
       "\n",
       "    .dataframe thead tr th {\n",
       "        text-align: left;\n",
       "    }\n",
       "\n",
       "    .dataframe thead tr:last-of-type th {\n",
       "        text-align: right;\n",
       "    }\n",
       "</style>\n",
       "<table border=\"1\" class=\"dataframe\">\n",
       "  <thead>\n",
       "    <tr>\n",
       "      <th></th>\n",
       "      <th colspan=\"3\" halign=\"left\">days_since_prior_order</th>\n",
       "    </tr>\n",
       "    <tr>\n",
       "      <th></th>\n",
       "      <th>mean</th>\n",
       "      <th>min</th>\n",
       "      <th>max</th>\n",
       "    </tr>\n",
       "    <tr>\n",
       "      <th>age_flag</th>\n",
       "      <th></th>\n",
       "      <th></th>\n",
       "      <th></th>\n",
       "    </tr>\n",
       "  </thead>\n",
       "  <tbody>\n",
       "    <tr>\n",
       "      <th>Middle aged</th>\n",
       "      <td>10.792087</td>\n",
       "      <td>0.0</td>\n",
       "      <td>30.0</td>\n",
       "    </tr>\n",
       "    <tr>\n",
       "      <th>Senior</th>\n",
       "      <td>10.808135</td>\n",
       "      <td>0.0</td>\n",
       "      <td>30.0</td>\n",
       "    </tr>\n",
       "    <tr>\n",
       "      <th>Senior middle aged</th>\n",
       "      <td>10.815058</td>\n",
       "      <td>0.0</td>\n",
       "      <td>30.0</td>\n",
       "    </tr>\n",
       "    <tr>\n",
       "      <th>Young adult</th>\n",
       "      <td>10.823742</td>\n",
       "      <td>0.0</td>\n",
       "      <td>30.0</td>\n",
       "    </tr>\n",
       "  </tbody>\n",
       "</table>\n",
       "</div>"
      ],
      "text/plain": [
       "                   days_since_prior_order           \n",
       "                                     mean  min   max\n",
       "age_flag                                            \n",
       "Middle aged                     10.792087  0.0  30.0\n",
       "Senior                          10.808135  0.0  30.0\n",
       "Senior middle aged              10.815058  0.0  30.0\n",
       "Young adult                     10.823742  0.0  30.0"
      ]
     },
     "execution_count": 18,
     "metadata": {},
     "output_type": "execute_result"
    }
   ],
   "source": [
    "age_freq"
   ]
  },
  {
   "cell_type": "code",
   "execution_count": 19,
   "id": "a7944666",
   "metadata": {},
   "outputs": [],
   "source": [
    "age_freq.to_clipboard()"
   ]
  },
  {
   "cell_type": "code",
   "execution_count": 20,
   "id": "b88d142d",
   "metadata": {},
   "outputs": [],
   "source": [
    "age_price=df_act_cust_final.groupby('age_flag').agg({'prices': ['mean', 'min', 'max']})"
   ]
  },
  {
   "cell_type": "code",
   "execution_count": 21,
   "id": "8cde5900",
   "metadata": {},
   "outputs": [
    {
     "data": {
      "text/html": [
       "<div>\n",
       "<style scoped>\n",
       "    .dataframe tbody tr th:only-of-type {\n",
       "        vertical-align: middle;\n",
       "    }\n",
       "\n",
       "    .dataframe tbody tr th {\n",
       "        vertical-align: top;\n",
       "    }\n",
       "\n",
       "    .dataframe thead tr th {\n",
       "        text-align: left;\n",
       "    }\n",
       "\n",
       "    .dataframe thead tr:last-of-type th {\n",
       "        text-align: right;\n",
       "    }\n",
       "</style>\n",
       "<table border=\"1\" class=\"dataframe\">\n",
       "  <thead>\n",
       "    <tr>\n",
       "      <th></th>\n",
       "      <th colspan=\"3\" halign=\"left\">prices</th>\n",
       "    </tr>\n",
       "    <tr>\n",
       "      <th></th>\n",
       "      <th>mean</th>\n",
       "      <th>min</th>\n",
       "      <th>max</th>\n",
       "    </tr>\n",
       "    <tr>\n",
       "      <th>age_flag</th>\n",
       "      <th></th>\n",
       "      <th></th>\n",
       "      <th></th>\n",
       "    </tr>\n",
       "  </thead>\n",
       "  <tbody>\n",
       "    <tr>\n",
       "      <th>Middle aged</th>\n",
       "      <td>7.795152</td>\n",
       "      <td>1.0</td>\n",
       "      <td>25.0</td>\n",
       "    </tr>\n",
       "    <tr>\n",
       "      <th>Senior</th>\n",
       "      <td>7.792055</td>\n",
       "      <td>1.0</td>\n",
       "      <td>25.0</td>\n",
       "    </tr>\n",
       "    <tr>\n",
       "      <th>Senior middle aged</th>\n",
       "      <td>7.790839</td>\n",
       "      <td>1.0</td>\n",
       "      <td>25.0</td>\n",
       "    </tr>\n",
       "    <tr>\n",
       "      <th>Young adult</th>\n",
       "      <td>7.784978</td>\n",
       "      <td>1.0</td>\n",
       "      <td>25.0</td>\n",
       "    </tr>\n",
       "  </tbody>\n",
       "</table>\n",
       "</div>"
      ],
      "text/plain": [
       "                      prices           \n",
       "                        mean  min   max\n",
       "age_flag                               \n",
       "Middle aged         7.795152  1.0  25.0\n",
       "Senior              7.792055  1.0  25.0\n",
       "Senior middle aged  7.790839  1.0  25.0\n",
       "Young adult         7.784978  1.0  25.0"
      ]
     },
     "execution_count": 21,
     "metadata": {},
     "output_type": "execute_result"
    }
   ],
   "source": [
    "age_price"
   ]
  },
  {
   "cell_type": "code",
   "execution_count": 22,
   "id": "76528307",
   "metadata": {},
   "outputs": [],
   "source": [
    "age_price.to_clipboard()"
   ]
  },
  {
   "cell_type": "markdown",
   "id": "e4cd3bc3",
   "metadata": {},
   "source": [
    "## Aggregating for family_flag usage frequency /expenditure"
   ]
  },
  {
   "cell_type": "code",
   "execution_count": 23,
   "id": "82d07d95",
   "metadata": {},
   "outputs": [],
   "source": [
    "fam_freq=df_act_cust_final.groupby('family_flag').agg({'days_since_prior_order': ['mean', 'min', 'max']})"
   ]
  },
  {
   "cell_type": "code",
   "execution_count": 24,
   "id": "c4879d48",
   "metadata": {},
   "outputs": [
    {
     "data": {
      "text/html": [
       "<div>\n",
       "<style scoped>\n",
       "    .dataframe tbody tr th:only-of-type {\n",
       "        vertical-align: middle;\n",
       "    }\n",
       "\n",
       "    .dataframe tbody tr th {\n",
       "        vertical-align: top;\n",
       "    }\n",
       "\n",
       "    .dataframe thead tr th {\n",
       "        text-align: left;\n",
       "    }\n",
       "\n",
       "    .dataframe thead tr:last-of-type th {\n",
       "        text-align: right;\n",
       "    }\n",
       "</style>\n",
       "<table border=\"1\" class=\"dataframe\">\n",
       "  <thead>\n",
       "    <tr>\n",
       "      <th></th>\n",
       "      <th colspan=\"3\" halign=\"left\">days_since_prior_order</th>\n",
       "    </tr>\n",
       "    <tr>\n",
       "      <th></th>\n",
       "      <th>mean</th>\n",
       "      <th>min</th>\n",
       "      <th>max</th>\n",
       "    </tr>\n",
       "    <tr>\n",
       "      <th>family_flag</th>\n",
       "      <th></th>\n",
       "      <th></th>\n",
       "      <th></th>\n",
       "    </tr>\n",
       "  </thead>\n",
       "  <tbody>\n",
       "    <tr>\n",
       "      <th>Large family</th>\n",
       "      <td>10.816223</td>\n",
       "      <td>0.0</td>\n",
       "      <td>30.0</td>\n",
       "    </tr>\n",
       "    <tr>\n",
       "      <th>No child</th>\n",
       "      <td>10.791950</td>\n",
       "      <td>0.0</td>\n",
       "      <td>30.0</td>\n",
       "    </tr>\n",
       "    <tr>\n",
       "      <th>Small family</th>\n",
       "      <td>10.802002</td>\n",
       "      <td>0.0</td>\n",
       "      <td>30.0</td>\n",
       "    </tr>\n",
       "  </tbody>\n",
       "</table>\n",
       "</div>"
      ],
      "text/plain": [
       "             days_since_prior_order           \n",
       "                               mean  min   max\n",
       "family_flag                                   \n",
       "Large family              10.816223  0.0  30.0\n",
       "No child                  10.791950  0.0  30.0\n",
       "Small family              10.802002  0.0  30.0"
      ]
     },
     "execution_count": 24,
     "metadata": {},
     "output_type": "execute_result"
    }
   ],
   "source": [
    "fam_freq"
   ]
  },
  {
   "cell_type": "code",
   "execution_count": 25,
   "id": "0652dffe",
   "metadata": {},
   "outputs": [],
   "source": [
    "fam_freq.to_clipboard()"
   ]
  },
  {
   "cell_type": "code",
   "execution_count": 26,
   "id": "cacc9dd3",
   "metadata": {},
   "outputs": [],
   "source": [
    "fam_price=df_act_cust_final.groupby('family_flag').agg({'prices': ['mean', 'min', 'max']})"
   ]
  },
  {
   "cell_type": "code",
   "execution_count": 27,
   "id": "c7d43f4c",
   "metadata": {},
   "outputs": [
    {
     "data": {
      "text/html": [
       "<div>\n",
       "<style scoped>\n",
       "    .dataframe tbody tr th:only-of-type {\n",
       "        vertical-align: middle;\n",
       "    }\n",
       "\n",
       "    .dataframe tbody tr th {\n",
       "        vertical-align: top;\n",
       "    }\n",
       "\n",
       "    .dataframe thead tr th {\n",
       "        text-align: left;\n",
       "    }\n",
       "\n",
       "    .dataframe thead tr:last-of-type th {\n",
       "        text-align: right;\n",
       "    }\n",
       "</style>\n",
       "<table border=\"1\" class=\"dataframe\">\n",
       "  <thead>\n",
       "    <tr>\n",
       "      <th></th>\n",
       "      <th colspan=\"3\" halign=\"left\">prices</th>\n",
       "    </tr>\n",
       "    <tr>\n",
       "      <th></th>\n",
       "      <th>mean</th>\n",
       "      <th>min</th>\n",
       "      <th>max</th>\n",
       "    </tr>\n",
       "    <tr>\n",
       "      <th>family_flag</th>\n",
       "      <th></th>\n",
       "      <th></th>\n",
       "      <th></th>\n",
       "    </tr>\n",
       "  </thead>\n",
       "  <tbody>\n",
       "    <tr>\n",
       "      <th>Large family</th>\n",
       "      <td>7.792886</td>\n",
       "      <td>1.0</td>\n",
       "      <td>25.0</td>\n",
       "    </tr>\n",
       "    <tr>\n",
       "      <th>No child</th>\n",
       "      <td>7.789550</td>\n",
       "      <td>1.0</td>\n",
       "      <td>25.0</td>\n",
       "    </tr>\n",
       "    <tr>\n",
       "      <th>Small family</th>\n",
       "      <td>7.795910</td>\n",
       "      <td>1.0</td>\n",
       "      <td>25.0</td>\n",
       "    </tr>\n",
       "  </tbody>\n",
       "</table>\n",
       "</div>"
      ],
      "text/plain": [
       "                prices           \n",
       "                  mean  min   max\n",
       "family_flag                      \n",
       "Large family  7.792886  1.0  25.0\n",
       "No child      7.789550  1.0  25.0\n",
       "Small family  7.795910  1.0  25.0"
      ]
     },
     "execution_count": 27,
     "metadata": {},
     "output_type": "execute_result"
    }
   ],
   "source": [
    "fam_price"
   ]
  },
  {
   "cell_type": "code",
   "execution_count": 28,
   "id": "848ed1fb",
   "metadata": {},
   "outputs": [],
   "source": [
    "fam_price.to_clipboard()"
   ]
  },
  {
   "cell_type": "markdown",
   "id": "eedc0df5",
   "metadata": {},
   "source": [
    "## Aggregating for fam_status usage frequency /expenditure"
   ]
  },
  {
   "cell_type": "code",
   "execution_count": 29,
   "id": "ea009b47",
   "metadata": {},
   "outputs": [],
   "source": [
    "fam_freq2=df_act_cust_final.groupby('fam_status').agg({'days_since_prior_order': ['mean', 'min', 'max']})"
   ]
  },
  {
   "cell_type": "code",
   "execution_count": 30,
   "id": "37b07e77",
   "metadata": {},
   "outputs": [
    {
     "data": {
      "text/html": [
       "<div>\n",
       "<style scoped>\n",
       "    .dataframe tbody tr th:only-of-type {\n",
       "        vertical-align: middle;\n",
       "    }\n",
       "\n",
       "    .dataframe tbody tr th {\n",
       "        vertical-align: top;\n",
       "    }\n",
       "\n",
       "    .dataframe thead tr th {\n",
       "        text-align: left;\n",
       "    }\n",
       "\n",
       "    .dataframe thead tr:last-of-type th {\n",
       "        text-align: right;\n",
       "    }\n",
       "</style>\n",
       "<table border=\"1\" class=\"dataframe\">\n",
       "  <thead>\n",
       "    <tr>\n",
       "      <th></th>\n",
       "      <th colspan=\"3\" halign=\"left\">days_since_prior_order</th>\n",
       "    </tr>\n",
       "    <tr>\n",
       "      <th></th>\n",
       "      <th>mean</th>\n",
       "      <th>min</th>\n",
       "      <th>max</th>\n",
       "    </tr>\n",
       "    <tr>\n",
       "      <th>fam_status</th>\n",
       "      <th></th>\n",
       "      <th></th>\n",
       "      <th></th>\n",
       "    </tr>\n",
       "  </thead>\n",
       "  <tbody>\n",
       "    <tr>\n",
       "      <th>divorced/widowed</th>\n",
       "      <td>10.750328</td>\n",
       "      <td>0.0</td>\n",
       "      <td>30.0</td>\n",
       "    </tr>\n",
       "    <tr>\n",
       "      <th>living with parents and siblings</th>\n",
       "      <td>10.750995</td>\n",
       "      <td>0.0</td>\n",
       "      <td>30.0</td>\n",
       "    </tr>\n",
       "    <tr>\n",
       "      <th>married</th>\n",
       "      <td>10.820875</td>\n",
       "      <td>0.0</td>\n",
       "      <td>30.0</td>\n",
       "    </tr>\n",
       "    <tr>\n",
       "      <th>single</th>\n",
       "      <td>10.813571</td>\n",
       "      <td>0.0</td>\n",
       "      <td>30.0</td>\n",
       "    </tr>\n",
       "  </tbody>\n",
       "</table>\n",
       "</div>"
      ],
      "text/plain": [
       "                                 days_since_prior_order           \n",
       "                                                   mean  min   max\n",
       "fam_status                                                        \n",
       "divorced/widowed                              10.750328  0.0  30.0\n",
       "living with parents and siblings              10.750995  0.0  30.0\n",
       "married                                       10.820875  0.0  30.0\n",
       "single                                        10.813571  0.0  30.0"
      ]
     },
     "execution_count": 30,
     "metadata": {},
     "output_type": "execute_result"
    }
   ],
   "source": [
    "fam_freq2"
   ]
  },
  {
   "cell_type": "code",
   "execution_count": 31,
   "id": "2a1556d2",
   "metadata": {},
   "outputs": [],
   "source": [
    "fam_freq2.to_clipboard()"
   ]
  },
  {
   "cell_type": "code",
   "execution_count": 32,
   "id": "91f7d9e4",
   "metadata": {},
   "outputs": [],
   "source": [
    "fam_freq2=df_act_cust_final.groupby('fam_status').agg({'prices': ['mean', 'min', 'max']})"
   ]
  },
  {
   "cell_type": "code",
   "execution_count": 33,
   "id": "e6474ecc",
   "metadata": {
    "scrolled": true
   },
   "outputs": [
    {
     "data": {
      "text/html": [
       "<div>\n",
       "<style scoped>\n",
       "    .dataframe tbody tr th:only-of-type {\n",
       "        vertical-align: middle;\n",
       "    }\n",
       "\n",
       "    .dataframe tbody tr th {\n",
       "        vertical-align: top;\n",
       "    }\n",
       "\n",
       "    .dataframe thead tr th {\n",
       "        text-align: left;\n",
       "    }\n",
       "\n",
       "    .dataframe thead tr:last-of-type th {\n",
       "        text-align: right;\n",
       "    }\n",
       "</style>\n",
       "<table border=\"1\" class=\"dataframe\">\n",
       "  <thead>\n",
       "    <tr>\n",
       "      <th></th>\n",
       "      <th colspan=\"3\" halign=\"left\">prices</th>\n",
       "    </tr>\n",
       "    <tr>\n",
       "      <th></th>\n",
       "      <th>mean</th>\n",
       "      <th>min</th>\n",
       "      <th>max</th>\n",
       "    </tr>\n",
       "    <tr>\n",
       "      <th>fam_status</th>\n",
       "      <th></th>\n",
       "      <th></th>\n",
       "      <th></th>\n",
       "    </tr>\n",
       "  </thead>\n",
       "  <tbody>\n",
       "    <tr>\n",
       "      <th>divorced/widowed</th>\n",
       "      <td>7.801014</td>\n",
       "      <td>1.0</td>\n",
       "      <td>25.0</td>\n",
       "    </tr>\n",
       "    <tr>\n",
       "      <th>living with parents and siblings</th>\n",
       "      <td>7.800604</td>\n",
       "      <td>1.0</td>\n",
       "      <td>25.0</td>\n",
       "    </tr>\n",
       "    <tr>\n",
       "      <th>married</th>\n",
       "      <td>7.790278</td>\n",
       "      <td>1.0</td>\n",
       "      <td>25.0</td>\n",
       "    </tr>\n",
       "    <tr>\n",
       "      <th>single</th>\n",
       "      <td>7.783597</td>\n",
       "      <td>1.0</td>\n",
       "      <td>25.0</td>\n",
       "    </tr>\n",
       "  </tbody>\n",
       "</table>\n",
       "</div>"
      ],
      "text/plain": [
       "                                    prices           \n",
       "                                      mean  min   max\n",
       "fam_status                                           \n",
       "divorced/widowed                  7.801014  1.0  25.0\n",
       "living with parents and siblings  7.800604  1.0  25.0\n",
       "married                           7.790278  1.0  25.0\n",
       "single                            7.783597  1.0  25.0"
      ]
     },
     "execution_count": 33,
     "metadata": {},
     "output_type": "execute_result"
    }
   ],
   "source": [
    "fam_freq2"
   ]
  },
  {
   "cell_type": "code",
   "execution_count": 34,
   "id": "582b17c5",
   "metadata": {},
   "outputs": [],
   "source": [
    "fam_freq2.to_clipboard()"
   ]
  },
  {
   "cell_type": "markdown",
   "id": "18835b8b",
   "metadata": {},
   "source": [
    "## Aggregating for loyalty_flag usage frequency /expenditure"
   ]
  },
  {
   "cell_type": "code",
   "execution_count": 35,
   "id": "4b230c8b",
   "metadata": {},
   "outputs": [],
   "source": [
    "loyal_freq=df_act_cust_final.groupby('loyalty_flag').agg({'days_since_prior_order': ['mean', 'min', 'max']})"
   ]
  },
  {
   "cell_type": "code",
   "execution_count": 36,
   "id": "8a90f76e",
   "metadata": {},
   "outputs": [
    {
     "data": {
      "text/html": [
       "<div>\n",
       "<style scoped>\n",
       "    .dataframe tbody tr th:only-of-type {\n",
       "        vertical-align: middle;\n",
       "    }\n",
       "\n",
       "    .dataframe tbody tr th {\n",
       "        vertical-align: top;\n",
       "    }\n",
       "\n",
       "    .dataframe thead tr th {\n",
       "        text-align: left;\n",
       "    }\n",
       "\n",
       "    .dataframe thead tr:last-of-type th {\n",
       "        text-align: right;\n",
       "    }\n",
       "</style>\n",
       "<table border=\"1\" class=\"dataframe\">\n",
       "  <thead>\n",
       "    <tr>\n",
       "      <th></th>\n",
       "      <th colspan=\"3\" halign=\"left\">days_since_prior_order</th>\n",
       "    </tr>\n",
       "    <tr>\n",
       "      <th></th>\n",
       "      <th>mean</th>\n",
       "      <th>min</th>\n",
       "      <th>max</th>\n",
       "    </tr>\n",
       "    <tr>\n",
       "      <th>loyalty_flag</th>\n",
       "      <th></th>\n",
       "      <th></th>\n",
       "      <th></th>\n",
       "    </tr>\n",
       "  </thead>\n",
       "  <tbody>\n",
       "    <tr>\n",
       "      <th>Loyal customer</th>\n",
       "      <td>6.026656</td>\n",
       "      <td>0.0</td>\n",
       "      <td>30.0</td>\n",
       "    </tr>\n",
       "    <tr>\n",
       "      <th>New customer</th>\n",
       "      <td>17.598690</td>\n",
       "      <td>0.0</td>\n",
       "      <td>30.0</td>\n",
       "    </tr>\n",
       "    <tr>\n",
       "      <th>Regular customer</th>\n",
       "      <td>12.155135</td>\n",
       "      <td>0.0</td>\n",
       "      <td>30.0</td>\n",
       "    </tr>\n",
       "  </tbody>\n",
       "</table>\n",
       "</div>"
      ],
      "text/plain": [
       "                 days_since_prior_order           \n",
       "                                   mean  min   max\n",
       "loyalty_flag                                      \n",
       "Loyal customer                 6.026656  0.0  30.0\n",
       "New customer                  17.598690  0.0  30.0\n",
       "Regular customer              12.155135  0.0  30.0"
      ]
     },
     "execution_count": 36,
     "metadata": {},
     "output_type": "execute_result"
    }
   ],
   "source": [
    "loyal_freq"
   ]
  },
  {
   "cell_type": "code",
   "execution_count": 37,
   "id": "2d45421f",
   "metadata": {},
   "outputs": [],
   "source": [
    "loyal_freq.to_clipboard()"
   ]
  },
  {
   "cell_type": "code",
   "execution_count": 38,
   "id": "f7e2ce2d",
   "metadata": {},
   "outputs": [],
   "source": [
    "loyal_price=df_act_cust_final.groupby('loyalty_flag').agg({'prices': ['mean', 'min', 'max']})"
   ]
  },
  {
   "cell_type": "code",
   "execution_count": 39,
   "id": "3abdec78",
   "metadata": {},
   "outputs": [
    {
     "data": {
      "text/html": [
       "<div>\n",
       "<style scoped>\n",
       "    .dataframe tbody tr th:only-of-type {\n",
       "        vertical-align: middle;\n",
       "    }\n",
       "\n",
       "    .dataframe tbody tr th {\n",
       "        vertical-align: top;\n",
       "    }\n",
       "\n",
       "    .dataframe thead tr th {\n",
       "        text-align: left;\n",
       "    }\n",
       "\n",
       "    .dataframe thead tr:last-of-type th {\n",
       "        text-align: right;\n",
       "    }\n",
       "</style>\n",
       "<table border=\"1\" class=\"dataframe\">\n",
       "  <thead>\n",
       "    <tr>\n",
       "      <th></th>\n",
       "      <th colspan=\"3\" halign=\"left\">prices</th>\n",
       "    </tr>\n",
       "    <tr>\n",
       "      <th></th>\n",
       "      <th>mean</th>\n",
       "      <th>min</th>\n",
       "      <th>max</th>\n",
       "    </tr>\n",
       "    <tr>\n",
       "      <th>loyalty_flag</th>\n",
       "      <th></th>\n",
       "      <th></th>\n",
       "      <th></th>\n",
       "    </tr>\n",
       "  </thead>\n",
       "  <tbody>\n",
       "    <tr>\n",
       "      <th>Loyal customer</th>\n",
       "      <td>7.773575</td>\n",
       "      <td>1.0</td>\n",
       "      <td>25.0</td>\n",
       "    </tr>\n",
       "    <tr>\n",
       "      <th>New customer</th>\n",
       "      <td>7.801665</td>\n",
       "      <td>1.0</td>\n",
       "      <td>25.0</td>\n",
       "    </tr>\n",
       "    <tr>\n",
       "      <th>Regular customer</th>\n",
       "      <td>7.798262</td>\n",
       "      <td>1.0</td>\n",
       "      <td>25.0</td>\n",
       "    </tr>\n",
       "  </tbody>\n",
       "</table>\n",
       "</div>"
      ],
      "text/plain": [
       "                    prices           \n",
       "                      mean  min   max\n",
       "loyalty_flag                         \n",
       "Loyal customer    7.773575  1.0  25.0\n",
       "New customer      7.801665  1.0  25.0\n",
       "Regular customer  7.798262  1.0  25.0"
      ]
     },
     "execution_count": 39,
     "metadata": {},
     "output_type": "execute_result"
    }
   ],
   "source": [
    "loyal_price"
   ]
  },
  {
   "cell_type": "code",
   "execution_count": 40,
   "id": "f40879bb",
   "metadata": {},
   "outputs": [],
   "source": [
    "loyal_price.to_clipboard()"
   ]
  },
  {
   "cell_type": "markdown",
   "id": "d9cf65ca",
   "metadata": {},
   "source": [
    "# 8. Compare your customer profiles with regions and departments. Can you identify a link between them? Customers may demonstrate different behaviors across regions, which could make this information important"
   ]
  },
  {
   "cell_type": "markdown",
   "id": "34b04871",
   "metadata": {},
   "source": [
    "## Aggregating for region usage frequency /expenditure"
   ]
  },
  {
   "cell_type": "code",
   "execution_count": 41,
   "id": "02e74a57",
   "metadata": {},
   "outputs": [],
   "source": [
    "region_freq=df_act_cust_final.groupby('region').agg({'days_since_prior_order': ['mean', 'min', 'max']})"
   ]
  },
  {
   "cell_type": "code",
   "execution_count": 42,
   "id": "2a2059fa",
   "metadata": {},
   "outputs": [
    {
     "data": {
      "text/html": [
       "<div>\n",
       "<style scoped>\n",
       "    .dataframe tbody tr th:only-of-type {\n",
       "        vertical-align: middle;\n",
       "    }\n",
       "\n",
       "    .dataframe tbody tr th {\n",
       "        vertical-align: top;\n",
       "    }\n",
       "\n",
       "    .dataframe thead tr th {\n",
       "        text-align: left;\n",
       "    }\n",
       "\n",
       "    .dataframe thead tr:last-of-type th {\n",
       "        text-align: right;\n",
       "    }\n",
       "</style>\n",
       "<table border=\"1\" class=\"dataframe\">\n",
       "  <thead>\n",
       "    <tr>\n",
       "      <th></th>\n",
       "      <th colspan=\"3\" halign=\"left\">days_since_prior_order</th>\n",
       "    </tr>\n",
       "    <tr>\n",
       "      <th></th>\n",
       "      <th>mean</th>\n",
       "      <th>min</th>\n",
       "      <th>max</th>\n",
       "    </tr>\n",
       "    <tr>\n",
       "      <th>region</th>\n",
       "      <th></th>\n",
       "      <th></th>\n",
       "      <th></th>\n",
       "    </tr>\n",
       "  </thead>\n",
       "  <tbody>\n",
       "    <tr>\n",
       "      <th>Midwest</th>\n",
       "      <td>10.892735</td>\n",
       "      <td>0.0</td>\n",
       "      <td>30.0</td>\n",
       "    </tr>\n",
       "    <tr>\n",
       "      <th>North East</th>\n",
       "      <td>10.774220</td>\n",
       "      <td>0.0</td>\n",
       "      <td>30.0</td>\n",
       "    </tr>\n",
       "    <tr>\n",
       "      <th>South</th>\n",
       "      <td>10.814227</td>\n",
       "      <td>0.0</td>\n",
       "      <td>30.0</td>\n",
       "    </tr>\n",
       "    <tr>\n",
       "      <th>West</th>\n",
       "      <td>10.754622</td>\n",
       "      <td>0.0</td>\n",
       "      <td>30.0</td>\n",
       "    </tr>\n",
       "  </tbody>\n",
       "</table>\n",
       "</div>"
      ],
      "text/plain": [
       "           days_since_prior_order           \n",
       "                             mean  min   max\n",
       "region                                      \n",
       "Midwest                 10.892735  0.0  30.0\n",
       "North East              10.774220  0.0  30.0\n",
       "South                   10.814227  0.0  30.0\n",
       "West                    10.754622  0.0  30.0"
      ]
     },
     "execution_count": 42,
     "metadata": {},
     "output_type": "execute_result"
    }
   ],
   "source": [
    "region_freq"
   ]
  },
  {
   "cell_type": "code",
   "execution_count": 43,
   "id": "8c1d70f1",
   "metadata": {},
   "outputs": [],
   "source": [
    "region_freq.to_clipboard()"
   ]
  },
  {
   "cell_type": "code",
   "execution_count": 44,
   "id": "95732600",
   "metadata": {},
   "outputs": [],
   "source": [
    "region_price=df_act_cust_final.groupby('region').agg({'prices': ['mean', 'min', 'max']})"
   ]
  },
  {
   "cell_type": "code",
   "execution_count": 45,
   "id": "b31dfe39",
   "metadata": {},
   "outputs": [
    {
     "data": {
      "text/html": [
       "<div>\n",
       "<style scoped>\n",
       "    .dataframe tbody tr th:only-of-type {\n",
       "        vertical-align: middle;\n",
       "    }\n",
       "\n",
       "    .dataframe tbody tr th {\n",
       "        vertical-align: top;\n",
       "    }\n",
       "\n",
       "    .dataframe thead tr th {\n",
       "        text-align: left;\n",
       "    }\n",
       "\n",
       "    .dataframe thead tr:last-of-type th {\n",
       "        text-align: right;\n",
       "    }\n",
       "</style>\n",
       "<table border=\"1\" class=\"dataframe\">\n",
       "  <thead>\n",
       "    <tr>\n",
       "      <th></th>\n",
       "      <th colspan=\"3\" halign=\"left\">prices</th>\n",
       "    </tr>\n",
       "    <tr>\n",
       "      <th></th>\n",
       "      <th>mean</th>\n",
       "      <th>min</th>\n",
       "      <th>max</th>\n",
       "    </tr>\n",
       "    <tr>\n",
       "      <th>region</th>\n",
       "      <th></th>\n",
       "      <th></th>\n",
       "      <th></th>\n",
       "    </tr>\n",
       "  </thead>\n",
       "  <tbody>\n",
       "    <tr>\n",
       "      <th>Midwest</th>\n",
       "      <td>7.792318</td>\n",
       "      <td>1.0</td>\n",
       "      <td>25.0</td>\n",
       "    </tr>\n",
       "    <tr>\n",
       "      <th>North East</th>\n",
       "      <td>7.781441</td>\n",
       "      <td>1.0</td>\n",
       "      <td>25.0</td>\n",
       "    </tr>\n",
       "    <tr>\n",
       "      <th>South</th>\n",
       "      <td>7.794439</td>\n",
       "      <td>1.0</td>\n",
       "      <td>25.0</td>\n",
       "    </tr>\n",
       "    <tr>\n",
       "      <th>West</th>\n",
       "      <td>7.790308</td>\n",
       "      <td>1.0</td>\n",
       "      <td>25.0</td>\n",
       "    </tr>\n",
       "  </tbody>\n",
       "</table>\n",
       "</div>"
      ],
      "text/plain": [
       "              prices           \n",
       "                mean  min   max\n",
       "region                         \n",
       "Midwest     7.792318  1.0  25.0\n",
       "North East  7.781441  1.0  25.0\n",
       "South       7.794439  1.0  25.0\n",
       "West        7.790308  1.0  25.0"
      ]
     },
     "execution_count": 45,
     "metadata": {},
     "output_type": "execute_result"
    }
   ],
   "source": [
    "region_price"
   ]
  },
  {
   "cell_type": "code",
   "execution_count": 46,
   "id": "ae5a6e12",
   "metadata": {},
   "outputs": [],
   "source": [
    "region_price.to_clipboard()"
   ]
  },
  {
   "cell_type": "markdown",
   "id": "f1bf49cc",
   "metadata": {},
   "source": [
    "## Comparing age_flag with region"
   ]
  },
  {
   "cell_type": "code",
   "execution_count": 47,
   "id": "ff75aa1d",
   "metadata": {},
   "outputs": [],
   "source": [
    "age_region=pd.crosstab(df_act_cust_final['age_flag'], df_act_cust_final['region'])"
   ]
  },
  {
   "cell_type": "code",
   "execution_count": 48,
   "id": "c56dddd4",
   "metadata": {},
   "outputs": [
    {
     "data": {
      "text/html": [
       "<div>\n",
       "<style scoped>\n",
       "    .dataframe tbody tr th:only-of-type {\n",
       "        vertical-align: middle;\n",
       "    }\n",
       "\n",
       "    .dataframe tbody tr th {\n",
       "        vertical-align: top;\n",
       "    }\n",
       "\n",
       "    .dataframe thead th {\n",
       "        text-align: right;\n",
       "    }\n",
       "</style>\n",
       "<table border=\"1\" class=\"dataframe\">\n",
       "  <thead>\n",
       "    <tr style=\"text-align: right;\">\n",
       "      <th>region</th>\n",
       "      <th>Midwest</th>\n",
       "      <th>North East</th>\n",
       "      <th>South</th>\n",
       "      <th>West</th>\n",
       "    </tr>\n",
       "    <tr>\n",
       "      <th>age_flag</th>\n",
       "      <th></th>\n",
       "      <th></th>\n",
       "      <th></th>\n",
       "      <th></th>\n",
       "    </tr>\n",
       "  </thead>\n",
       "  <tbody>\n",
       "    <tr>\n",
       "      <th>Middle aged</th>\n",
       "      <td>1856767</td>\n",
       "      <td>1338864</td>\n",
       "      <td>2598569</td>\n",
       "      <td>1980570</td>\n",
       "    </tr>\n",
       "    <tr>\n",
       "      <th>Senior</th>\n",
       "      <td>1346950</td>\n",
       "      <td>1040414</td>\n",
       "      <td>1930674</td>\n",
       "      <td>1494845</td>\n",
       "    </tr>\n",
       "    <tr>\n",
       "      <th>Senior middle aged</th>\n",
       "      <td>2145923</td>\n",
       "      <td>1617332</td>\n",
       "      <td>3013438</td>\n",
       "      <td>2357923</td>\n",
       "    </tr>\n",
       "    <tr>\n",
       "      <th>Young adult</th>\n",
       "      <td>1911873</td>\n",
       "      <td>1468075</td>\n",
       "      <td>2768458</td>\n",
       "      <td>2093889</td>\n",
       "    </tr>\n",
       "  </tbody>\n",
       "</table>\n",
       "</div>"
      ],
      "text/plain": [
       "region              Midwest  North East    South     West\n",
       "age_flag                                                 \n",
       "Middle aged         1856767     1338864  2598569  1980570\n",
       "Senior              1346950     1040414  1930674  1494845\n",
       "Senior middle aged  2145923     1617332  3013438  2357923\n",
       "Young adult         1911873     1468075  2768458  2093889"
      ]
     },
     "execution_count": 48,
     "metadata": {},
     "output_type": "execute_result"
    }
   ],
   "source": [
    "age_region"
   ]
  },
  {
   "cell_type": "code",
   "execution_count": 49,
   "id": "20903089",
   "metadata": {},
   "outputs": [],
   "source": [
    "age_region.to_clipboard()"
   ]
  },
  {
   "cell_type": "markdown",
   "id": "01f9784b",
   "metadata": {},
   "source": [
    "## Comparing fam_status with region"
   ]
  },
  {
   "cell_type": "code",
   "execution_count": 50,
   "id": "fa9d5e6c",
   "metadata": {},
   "outputs": [],
   "source": [
    "fam_region=pd.crosstab(df_act_cust_final['fam_status'], df_act_cust_final['region'])"
   ]
  },
  {
   "cell_type": "code",
   "execution_count": 51,
   "id": "a5ae05e3",
   "metadata": {},
   "outputs": [
    {
     "data": {
      "text/html": [
       "<div>\n",
       "<style scoped>\n",
       "    .dataframe tbody tr th:only-of-type {\n",
       "        vertical-align: middle;\n",
       "    }\n",
       "\n",
       "    .dataframe tbody tr th {\n",
       "        vertical-align: top;\n",
       "    }\n",
       "\n",
       "    .dataframe thead th {\n",
       "        text-align: right;\n",
       "    }\n",
       "</style>\n",
       "<table border=\"1\" class=\"dataframe\">\n",
       "  <thead>\n",
       "    <tr style=\"text-align: right;\">\n",
       "      <th>region</th>\n",
       "      <th>Midwest</th>\n",
       "      <th>North East</th>\n",
       "      <th>South</th>\n",
       "      <th>West</th>\n",
       "    </tr>\n",
       "    <tr>\n",
       "      <th>fam_status</th>\n",
       "      <th></th>\n",
       "      <th></th>\n",
       "      <th></th>\n",
       "      <th></th>\n",
       "    </tr>\n",
       "  </thead>\n",
       "  <tbody>\n",
       "    <tr>\n",
       "      <th>divorced/widowed</th>\n",
       "      <td>617198</td>\n",
       "      <td>478767</td>\n",
       "      <td>877314</td>\n",
       "      <td>671992</td>\n",
       "    </tr>\n",
       "    <tr>\n",
       "      <th>living with parents and siblings</th>\n",
       "      <td>351435</td>\n",
       "      <td>256430</td>\n",
       "      <td>505457</td>\n",
       "      <td>367850</td>\n",
       "    </tr>\n",
       "    <tr>\n",
       "      <th>married</th>\n",
       "      <td>5087262</td>\n",
       "      <td>3853773</td>\n",
       "      <td>7223749</td>\n",
       "      <td>5578927</td>\n",
       "    </tr>\n",
       "    <tr>\n",
       "      <th>single</th>\n",
       "      <td>1205618</td>\n",
       "      <td>875715</td>\n",
       "      <td>1704619</td>\n",
       "      <td>1308458</td>\n",
       "    </tr>\n",
       "  </tbody>\n",
       "</table>\n",
       "</div>"
      ],
      "text/plain": [
       "region                            Midwest  North East    South     West\n",
       "fam_status                                                             \n",
       "divorced/widowed                   617198      478767   877314   671992\n",
       "living with parents and siblings   351435      256430   505457   367850\n",
       "married                           5087262     3853773  7223749  5578927\n",
       "single                            1205618      875715  1704619  1308458"
      ]
     },
     "execution_count": 51,
     "metadata": {},
     "output_type": "execute_result"
    }
   ],
   "source": [
    "fam_region"
   ]
  },
  {
   "cell_type": "code",
   "execution_count": 52,
   "id": "c6be6a3b",
   "metadata": {},
   "outputs": [],
   "source": [
    "fam_region.to_clipboard()"
   ]
  },
  {
   "cell_type": "markdown",
   "id": "5b6639b3",
   "metadata": {},
   "source": [
    "## Comparing loyalty_flag with region"
   ]
  },
  {
   "cell_type": "code",
   "execution_count": 53,
   "id": "ceae74b4",
   "metadata": {},
   "outputs": [],
   "source": [
    "loyal_region=pd.crosstab(df_act_cust_final['loyalty_flag'], df_act_cust_final['region'])"
   ]
  },
  {
   "cell_type": "code",
   "execution_count": 54,
   "id": "abd7e6ce",
   "metadata": {},
   "outputs": [
    {
     "data": {
      "text/html": [
       "<div>\n",
       "<style scoped>\n",
       "    .dataframe tbody tr th:only-of-type {\n",
       "        vertical-align: middle;\n",
       "    }\n",
       "\n",
       "    .dataframe tbody tr th {\n",
       "        vertical-align: top;\n",
       "    }\n",
       "\n",
       "    .dataframe thead th {\n",
       "        text-align: right;\n",
       "    }\n",
       "</style>\n",
       "<table border=\"1\" class=\"dataframe\">\n",
       "  <thead>\n",
       "    <tr style=\"text-align: right;\">\n",
       "      <th>region</th>\n",
       "      <th>Midwest</th>\n",
       "      <th>North East</th>\n",
       "      <th>South</th>\n",
       "      <th>West</th>\n",
       "    </tr>\n",
       "    <tr>\n",
       "      <th>loyalty_flag</th>\n",
       "      <th></th>\n",
       "      <th></th>\n",
       "      <th></th>\n",
       "      <th></th>\n",
       "    </tr>\n",
       "  </thead>\n",
       "  <tbody>\n",
       "    <tr>\n",
       "      <th>Loyal customer</th>\n",
       "      <td>2373774</td>\n",
       "      <td>1841785</td>\n",
       "      <td>3405844</td>\n",
       "      <td>2662690</td>\n",
       "    </tr>\n",
       "    <tr>\n",
       "      <th>New customer</th>\n",
       "      <td>1136761</td>\n",
       "      <td>842156</td>\n",
       "      <td>1593664</td>\n",
       "      <td>1231114</td>\n",
       "    </tr>\n",
       "    <tr>\n",
       "      <th>Regular customer</th>\n",
       "      <td>3750978</td>\n",
       "      <td>2780744</td>\n",
       "      <td>5311631</td>\n",
       "      <td>4033423</td>\n",
       "    </tr>\n",
       "  </tbody>\n",
       "</table>\n",
       "</div>"
      ],
      "text/plain": [
       "region            Midwest  North East    South     West\n",
       "loyalty_flag                                           \n",
       "Loyal customer    2373774     1841785  3405844  2662690\n",
       "New customer      1136761      842156  1593664  1231114\n",
       "Regular customer  3750978     2780744  5311631  4033423"
      ]
     },
     "execution_count": 54,
     "metadata": {},
     "output_type": "execute_result"
    }
   ],
   "source": [
    "loyal_region"
   ]
  },
  {
   "cell_type": "code",
   "execution_count": 55,
   "id": "27fa117b",
   "metadata": {},
   "outputs": [],
   "source": [
    "loyal_region.to_clipboard()"
   ]
  },
  {
   "cell_type": "markdown",
   "id": "330a9bf4",
   "metadata": {},
   "source": [
    "## Comparing age with department"
   ]
  },
  {
   "cell_type": "code",
   "execution_count": 56,
   "id": "6918c614",
   "metadata": {},
   "outputs": [],
   "source": [
    "age_dpt=pd.crosstab(df_act_cust_final['age_flag'], df_act_cust_final['shopping_basket'])"
   ]
  },
  {
   "cell_type": "code",
   "execution_count": 57,
   "id": "82e7a321",
   "metadata": {},
   "outputs": [
    {
     "data": {
      "text/html": [
       "<div>\n",
       "<style scoped>\n",
       "    .dataframe tbody tr th:only-of-type {\n",
       "        vertical-align: middle;\n",
       "    }\n",
       "\n",
       "    .dataframe tbody tr th {\n",
       "        vertical-align: top;\n",
       "    }\n",
       "\n",
       "    .dataframe thead th {\n",
       "        text-align: right;\n",
       "    }\n",
       "</style>\n",
       "<table border=\"1\" class=\"dataframe\">\n",
       "  <thead>\n",
       "    <tr style=\"text-align: right;\">\n",
       "      <th>shopping_basket</th>\n",
       "      <th>Essentials</th>\n",
       "      <th>Non essentials</th>\n",
       "      <th>Other</th>\n",
       "    </tr>\n",
       "    <tr>\n",
       "      <th>age_flag</th>\n",
       "      <th></th>\n",
       "      <th></th>\n",
       "      <th></th>\n",
       "    </tr>\n",
       "  </thead>\n",
       "  <tbody>\n",
       "    <tr>\n",
       "      <th>Middle aged</th>\n",
       "      <td>3747147</td>\n",
       "      <td>3994379</td>\n",
       "      <td>33244</td>\n",
       "    </tr>\n",
       "    <tr>\n",
       "      <th>Senior</th>\n",
       "      <td>2799555</td>\n",
       "      <td>2988939</td>\n",
       "      <td>24389</td>\n",
       "    </tr>\n",
       "    <tr>\n",
       "      <th>Senior middle aged</th>\n",
       "      <td>4395334</td>\n",
       "      <td>4700501</td>\n",
       "      <td>38781</td>\n",
       "    </tr>\n",
       "    <tr>\n",
       "      <th>Young adult</th>\n",
       "      <td>3974806</td>\n",
       "      <td>4231273</td>\n",
       "      <td>36216</td>\n",
       "    </tr>\n",
       "  </tbody>\n",
       "</table>\n",
       "</div>"
      ],
      "text/plain": [
       "shopping_basket     Essentials  Non essentials  Other\n",
       "age_flag                                             \n",
       "Middle aged            3747147         3994379  33244\n",
       "Senior                 2799555         2988939  24389\n",
       "Senior middle aged     4395334         4700501  38781\n",
       "Young adult            3974806         4231273  36216"
      ]
     },
     "execution_count": 57,
     "metadata": {},
     "output_type": "execute_result"
    }
   ],
   "source": [
    "age_dpt"
   ]
  },
  {
   "cell_type": "code",
   "execution_count": 58,
   "id": "c77af509",
   "metadata": {},
   "outputs": [],
   "source": [
    "age_dpt.to_clipboard()"
   ]
  },
  {
   "cell_type": "code",
   "execution_count": 59,
   "id": "f070b725",
   "metadata": {},
   "outputs": [],
   "source": [
    "age_dpt2=pd.crosstab(df_act_cust_final['age_flag'], df_act_cust_final['department_id'])"
   ]
  },
  {
   "cell_type": "code",
   "execution_count": 60,
   "id": "a4c8789e",
   "metadata": {},
   "outputs": [
    {
     "data": {
      "text/html": [
       "<div>\n",
       "<style scoped>\n",
       "    .dataframe tbody tr th:only-of-type {\n",
       "        vertical-align: middle;\n",
       "    }\n",
       "\n",
       "    .dataframe tbody tr th {\n",
       "        vertical-align: top;\n",
       "    }\n",
       "\n",
       "    .dataframe thead th {\n",
       "        text-align: right;\n",
       "    }\n",
       "</style>\n",
       "<table border=\"1\" class=\"dataframe\">\n",
       "  <thead>\n",
       "    <tr style=\"text-align: right;\">\n",
       "      <th>department_id</th>\n",
       "      <th>1</th>\n",
       "      <th>10</th>\n",
       "      <th>11</th>\n",
       "      <th>12</th>\n",
       "      <th>13</th>\n",
       "      <th>14</th>\n",
       "      <th>15</th>\n",
       "      <th>16</th>\n",
       "      <th>17</th>\n",
       "      <th>18</th>\n",
       "      <th>19</th>\n",
       "      <th>2</th>\n",
       "      <th>20</th>\n",
       "      <th>21</th>\n",
       "      <th>3</th>\n",
       "      <th>4</th>\n",
       "      <th>5</th>\n",
       "      <th>6</th>\n",
       "      <th>7</th>\n",
       "      <th>8</th>\n",
       "      <th>9</th>\n",
       "    </tr>\n",
       "    <tr>\n",
       "      <th>age_flag</th>\n",
       "      <th></th>\n",
       "      <th></th>\n",
       "      <th></th>\n",
       "      <th></th>\n",
       "      <th></th>\n",
       "      <th></th>\n",
       "      <th></th>\n",
       "      <th></th>\n",
       "      <th></th>\n",
       "      <th></th>\n",
       "      <th></th>\n",
       "      <th></th>\n",
       "      <th></th>\n",
       "      <th></th>\n",
       "      <th></th>\n",
       "      <th></th>\n",
       "      <th></th>\n",
       "      <th></th>\n",
       "      <th></th>\n",
       "      <th></th>\n",
       "      <th></th>\n",
       "    </tr>\n",
       "  </thead>\n",
       "  <tbody>\n",
       "    <tr>\n",
       "      <th>Middle aged</th>\n",
       "      <td>529973</td>\n",
       "      <td>8508</td>\n",
       "      <td>107284</td>\n",
       "      <td>168323</td>\n",
       "      <td>446231</td>\n",
       "      <td>168079</td>\n",
       "      <td>253069</td>\n",
       "      <td>1304931</td>\n",
       "      <td>175995</td>\n",
       "      <td>108023</td>\n",
       "      <td>689667</td>\n",
       "      <td>8458</td>\n",
       "      <td>252291</td>\n",
       "      <td>16278</td>\n",
       "      <td>280762</td>\n",
       "      <td>2285621</td>\n",
       "      <td>36271</td>\n",
       "      <td>64491</td>\n",
       "      <td>642967</td>\n",
       "      <td>23071</td>\n",
       "      <td>204477</td>\n",
       "    </tr>\n",
       "    <tr>\n",
       "      <th>Senior</th>\n",
       "      <td>399365</td>\n",
       "      <td>6244</td>\n",
       "      <td>78451</td>\n",
       "      <td>127439</td>\n",
       "      <td>333714</td>\n",
       "      <td>126253</td>\n",
       "      <td>188148</td>\n",
       "      <td>973176</td>\n",
       "      <td>133043</td>\n",
       "      <td>75686</td>\n",
       "      <td>519691</td>\n",
       "      <td>6194</td>\n",
       "      <td>187932</td>\n",
       "      <td>11951</td>\n",
       "      <td>210369</td>\n",
       "      <td>1701224</td>\n",
       "      <td>26091</td>\n",
       "      <td>47626</td>\n",
       "      <td>489384</td>\n",
       "      <td>16991</td>\n",
       "      <td>153911</td>\n",
       "    </tr>\n",
       "    <tr>\n",
       "      <th>Senior middle aged</th>\n",
       "      <td>630829</td>\n",
       "      <td>9678</td>\n",
       "      <td>126397</td>\n",
       "      <td>199961</td>\n",
       "      <td>528295</td>\n",
       "      <td>196195</td>\n",
       "      <td>300072</td>\n",
       "      <td>1512774</td>\n",
       "      <td>206447</td>\n",
       "      <td>119383</td>\n",
       "      <td>816822</td>\n",
       "      <td>10317</td>\n",
       "      <td>297141</td>\n",
       "      <td>18786</td>\n",
       "      <td>330976</td>\n",
       "      <td>2679326</td>\n",
       "      <td>42048</td>\n",
       "      <td>74773</td>\n",
       "      <td>762533</td>\n",
       "      <td>27858</td>\n",
       "      <td>244005</td>\n",
       "    </tr>\n",
       "    <tr>\n",
       "      <th>Young adult</th>\n",
       "      <td>561564</td>\n",
       "      <td>9021</td>\n",
       "      <td>112174</td>\n",
       "      <td>179058</td>\n",
       "      <td>474465</td>\n",
       "      <td>180323</td>\n",
       "      <td>270785</td>\n",
       "      <td>1386301</td>\n",
       "      <td>184372</td>\n",
       "      <td>107300</td>\n",
       "      <td>740226</td>\n",
       "      <td>9442</td>\n",
       "      <td>266470</td>\n",
       "      <td>17753</td>\n",
       "      <td>298721</td>\n",
       "      <td>2413102</td>\n",
       "      <td>40217</td>\n",
       "      <td>69101</td>\n",
       "      <td>677017</td>\n",
       "      <td>25140</td>\n",
       "      <td>219743</td>\n",
       "    </tr>\n",
       "  </tbody>\n",
       "</table>\n",
       "</div>"
      ],
      "text/plain": [
       "department_id            1    10      11      12      13      14      15  \\\n",
       "age_flag                                                                   \n",
       "Middle aged         529973  8508  107284  168323  446231  168079  253069   \n",
       "Senior              399365  6244   78451  127439  333714  126253  188148   \n",
       "Senior middle aged  630829  9678  126397  199961  528295  196195  300072   \n",
       "Young adult         561564  9021  112174  179058  474465  180323  270785   \n",
       "\n",
       "department_id            16      17      18      19      2      20     21  \\\n",
       "age_flag                                                                    \n",
       "Middle aged         1304931  175995  108023  689667   8458  252291  16278   \n",
       "Senior               973176  133043   75686  519691   6194  187932  11951   \n",
       "Senior middle aged  1512774  206447  119383  816822  10317  297141  18786   \n",
       "Young adult         1386301  184372  107300  740226   9442  266470  17753   \n",
       "\n",
       "department_id            3        4      5      6       7      8       9  \n",
       "age_flag                                                                  \n",
       "Middle aged         280762  2285621  36271  64491  642967  23071  204477  \n",
       "Senior              210369  1701224  26091  47626  489384  16991  153911  \n",
       "Senior middle aged  330976  2679326  42048  74773  762533  27858  244005  \n",
       "Young adult         298721  2413102  40217  69101  677017  25140  219743  "
      ]
     },
     "execution_count": 60,
     "metadata": {},
     "output_type": "execute_result"
    }
   ],
   "source": [
    "age_dpt2"
   ]
  },
  {
   "cell_type": "code",
   "execution_count": 61,
   "id": "7f3517f0",
   "metadata": {},
   "outputs": [],
   "source": [
    "age_dpt2.to_clipboard()"
   ]
  },
  {
   "cell_type": "markdown",
   "id": "ec498fc4",
   "metadata": {},
   "source": [
    "## Comparing fam_status with departments"
   ]
  },
  {
   "cell_type": "code",
   "execution_count": 62,
   "id": "26ae38f4",
   "metadata": {},
   "outputs": [],
   "source": [
    "fam_dpt=pd.crosstab(df_act_cust_final['fam_status'], df_act_cust_final['shopping_basket'])"
   ]
  },
  {
   "cell_type": "code",
   "execution_count": 63,
   "id": "4181995b",
   "metadata": {},
   "outputs": [
    {
     "data": {
      "text/html": [
       "<div>\n",
       "<style scoped>\n",
       "    .dataframe tbody tr th:only-of-type {\n",
       "        vertical-align: middle;\n",
       "    }\n",
       "\n",
       "    .dataframe tbody tr th {\n",
       "        vertical-align: top;\n",
       "    }\n",
       "\n",
       "    .dataframe thead th {\n",
       "        text-align: right;\n",
       "    }\n",
       "</style>\n",
       "<table border=\"1\" class=\"dataframe\">\n",
       "  <thead>\n",
       "    <tr style=\"text-align: right;\">\n",
       "      <th>shopping_basket</th>\n",
       "      <th>Essentials</th>\n",
       "      <th>Non essentials</th>\n",
       "      <th>Other</th>\n",
       "    </tr>\n",
       "    <tr>\n",
       "      <th>fam_status</th>\n",
       "      <th></th>\n",
       "      <th></th>\n",
       "      <th></th>\n",
       "    </tr>\n",
       "  </thead>\n",
       "  <tbody>\n",
       "    <tr>\n",
       "      <th>divorced/widowed</th>\n",
       "      <td>1272025</td>\n",
       "      <td>1362664</td>\n",
       "      <td>10582</td>\n",
       "    </tr>\n",
       "    <tr>\n",
       "      <th>living with parents and siblings</th>\n",
       "      <td>719221</td>\n",
       "      <td>755186</td>\n",
       "      <td>6765</td>\n",
       "    </tr>\n",
       "    <tr>\n",
       "      <th>married</th>\n",
       "      <td>10480081</td>\n",
       "      <td>11170414</td>\n",
       "      <td>93216</td>\n",
       "    </tr>\n",
       "    <tr>\n",
       "      <th>single</th>\n",
       "      <td>2445515</td>\n",
       "      <td>2626828</td>\n",
       "      <td>22067</td>\n",
       "    </tr>\n",
       "  </tbody>\n",
       "</table>\n",
       "</div>"
      ],
      "text/plain": [
       "shopping_basket                   Essentials  Non essentials  Other\n",
       "fam_status                                                         \n",
       "divorced/widowed                     1272025         1362664  10582\n",
       "living with parents and siblings      719221          755186   6765\n",
       "married                             10480081        11170414  93216\n",
       "single                               2445515         2626828  22067"
      ]
     },
     "execution_count": 63,
     "metadata": {},
     "output_type": "execute_result"
    }
   ],
   "source": [
    "fam_dpt"
   ]
  },
  {
   "cell_type": "code",
   "execution_count": 64,
   "id": "8a1463e8",
   "metadata": {},
   "outputs": [],
   "source": [
    "fam_dpt.to_clipboard()"
   ]
  },
  {
   "cell_type": "code",
   "execution_count": 65,
   "id": "4a88cff5",
   "metadata": {},
   "outputs": [],
   "source": [
    "fam_dpt2=pd.crosstab(df_act_cust_final['fam_status'], df_act_cust_final['department_id'])"
   ]
  },
  {
   "cell_type": "code",
   "execution_count": 66,
   "id": "43c2c3f0",
   "metadata": {},
   "outputs": [
    {
     "data": {
      "text/html": [
       "<div>\n",
       "<style scoped>\n",
       "    .dataframe tbody tr th:only-of-type {\n",
       "        vertical-align: middle;\n",
       "    }\n",
       "\n",
       "    .dataframe tbody tr th {\n",
       "        vertical-align: top;\n",
       "    }\n",
       "\n",
       "    .dataframe thead th {\n",
       "        text-align: right;\n",
       "    }\n",
       "</style>\n",
       "<table border=\"1\" class=\"dataframe\">\n",
       "  <thead>\n",
       "    <tr style=\"text-align: right;\">\n",
       "      <th>department_id</th>\n",
       "      <th>1</th>\n",
       "      <th>10</th>\n",
       "      <th>11</th>\n",
       "      <th>12</th>\n",
       "      <th>13</th>\n",
       "      <th>14</th>\n",
       "      <th>15</th>\n",
       "      <th>16</th>\n",
       "      <th>17</th>\n",
       "      <th>18</th>\n",
       "      <th>19</th>\n",
       "      <th>2</th>\n",
       "      <th>20</th>\n",
       "      <th>21</th>\n",
       "      <th>3</th>\n",
       "      <th>4</th>\n",
       "      <th>5</th>\n",
       "      <th>6</th>\n",
       "      <th>7</th>\n",
       "      <th>8</th>\n",
       "      <th>9</th>\n",
       "    </tr>\n",
       "    <tr>\n",
       "      <th>fam_status</th>\n",
       "      <th></th>\n",
       "      <th></th>\n",
       "      <th></th>\n",
       "      <th></th>\n",
       "      <th></th>\n",
       "      <th></th>\n",
       "      <th></th>\n",
       "      <th></th>\n",
       "      <th></th>\n",
       "      <th></th>\n",
       "      <th></th>\n",
       "      <th></th>\n",
       "      <th></th>\n",
       "      <th></th>\n",
       "      <th></th>\n",
       "      <th></th>\n",
       "      <th></th>\n",
       "      <th></th>\n",
       "      <th></th>\n",
       "      <th></th>\n",
       "      <th></th>\n",
       "    </tr>\n",
       "  </thead>\n",
       "  <tbody>\n",
       "    <tr>\n",
       "      <th>divorced/widowed</th>\n",
       "      <td>183957</td>\n",
       "      <td>2676</td>\n",
       "      <td>36313</td>\n",
       "      <td>57621</td>\n",
       "      <td>151891</td>\n",
       "      <td>56590</td>\n",
       "      <td>84268</td>\n",
       "      <td>442602</td>\n",
       "      <td>58446</td>\n",
       "      <td>34351</td>\n",
       "      <td>236244</td>\n",
       "      <td>2842</td>\n",
       "      <td>86749</td>\n",
       "      <td>5064</td>\n",
       "      <td>95735</td>\n",
       "      <td>777094</td>\n",
       "      <td>11859</td>\n",
       "      <td>21814</td>\n",
       "      <td>220879</td>\n",
       "      <td>8025</td>\n",
       "      <td>70251</td>\n",
       "    </tr>\n",
       "    <tr>\n",
       "      <th>living with parents and siblings</th>\n",
       "      <td>102993</td>\n",
       "      <td>1633</td>\n",
       "      <td>20201</td>\n",
       "      <td>32344</td>\n",
       "      <td>85845</td>\n",
       "      <td>33198</td>\n",
       "      <td>48477</td>\n",
       "      <td>250207</td>\n",
       "      <td>33349</td>\n",
       "      <td>19381</td>\n",
       "      <td>131310</td>\n",
       "      <td>1815</td>\n",
       "      <td>48119</td>\n",
       "      <td>3317</td>\n",
       "      <td>53684</td>\n",
       "      <td>430539</td>\n",
       "      <td>8379</td>\n",
       "      <td>12394</td>\n",
       "      <td>119107</td>\n",
       "      <td>5338</td>\n",
       "      <td>39542</td>\n",
       "    </tr>\n",
       "    <tr>\n",
       "      <th>married</th>\n",
       "      <td>1489390</td>\n",
       "      <td>23818</td>\n",
       "      <td>297900</td>\n",
       "      <td>476559</td>\n",
       "      <td>1252956</td>\n",
       "      <td>471220</td>\n",
       "      <td>712577</td>\n",
       "      <td>3632599</td>\n",
       "      <td>495150</td>\n",
       "      <td>287683</td>\n",
       "      <td>1944658</td>\n",
       "      <td>23882</td>\n",
       "      <td>702333</td>\n",
       "      <td>45516</td>\n",
       "      <td>785749</td>\n",
       "      <td>6373293</td>\n",
       "      <td>99421</td>\n",
       "      <td>179136</td>\n",
       "      <td>1807453</td>\n",
       "      <td>64120</td>\n",
       "      <td>578298</td>\n",
       "    </tr>\n",
       "    <tr>\n",
       "      <th>single</th>\n",
       "      <td>345391</td>\n",
       "      <td>5324</td>\n",
       "      <td>69892</td>\n",
       "      <td>108257</td>\n",
       "      <td>292013</td>\n",
       "      <td>109842</td>\n",
       "      <td>166752</td>\n",
       "      <td>851774</td>\n",
       "      <td>112912</td>\n",
       "      <td>68977</td>\n",
       "      <td>454194</td>\n",
       "      <td>5872</td>\n",
       "      <td>166633</td>\n",
       "      <td>10871</td>\n",
       "      <td>185660</td>\n",
       "      <td>1498347</td>\n",
       "      <td>24968</td>\n",
       "      <td>42647</td>\n",
       "      <td>424462</td>\n",
       "      <td>15577</td>\n",
       "      <td>134045</td>\n",
       "    </tr>\n",
       "  </tbody>\n",
       "</table>\n",
       "</div>"
      ],
      "text/plain": [
       "department_id                           1     10      11      12       13  \\\n",
       "fam_status                                                                  \n",
       "divorced/widowed                   183957   2676   36313   57621   151891   \n",
       "living with parents and siblings   102993   1633   20201   32344    85845   \n",
       "married                           1489390  23818  297900  476559  1252956   \n",
       "single                             345391   5324   69892  108257   292013   \n",
       "\n",
       "department_id                         14      15       16      17      18  \\\n",
       "fam_status                                                                  \n",
       "divorced/widowed                   56590   84268   442602   58446   34351   \n",
       "living with parents and siblings   33198   48477   250207   33349   19381   \n",
       "married                           471220  712577  3632599  495150  287683   \n",
       "single                            109842  166752   851774  112912   68977   \n",
       "\n",
       "department_id                          19      2      20     21       3  \\\n",
       "fam_status                                                                \n",
       "divorced/widowed                   236244   2842   86749   5064   95735   \n",
       "living with parents and siblings   131310   1815   48119   3317   53684   \n",
       "married                           1944658  23882  702333  45516  785749   \n",
       "single                             454194   5872  166633  10871  185660   \n",
       "\n",
       "department_id                           4      5       6        7      8  \\\n",
       "fam_status                                                                 \n",
       "divorced/widowed                   777094  11859   21814   220879   8025   \n",
       "living with parents and siblings   430539   8379   12394   119107   5338   \n",
       "married                           6373293  99421  179136  1807453  64120   \n",
       "single                            1498347  24968   42647   424462  15577   \n",
       "\n",
       "department_id                          9  \n",
       "fam_status                                \n",
       "divorced/widowed                   70251  \n",
       "living with parents and siblings   39542  \n",
       "married                           578298  \n",
       "single                            134045  "
      ]
     },
     "execution_count": 66,
     "metadata": {},
     "output_type": "execute_result"
    }
   ],
   "source": [
    "fam_dpt2"
   ]
  },
  {
   "cell_type": "code",
   "execution_count": 67,
   "id": "f6a261f3",
   "metadata": {},
   "outputs": [],
   "source": [
    "fam_dpt2.to_clipboard()"
   ]
  },
  {
   "cell_type": "code",
   "execution_count": null,
   "id": "93f8bd8b",
   "metadata": {},
   "outputs": [],
   "source": []
  },
  {
   "cell_type": "code",
   "execution_count": null,
   "id": "3f911691",
   "metadata": {},
   "outputs": [],
   "source": []
  }
 ],
 "metadata": {
  "kernelspec": {
   "display_name": "Python 3 (ipykernel)",
   "language": "python",
   "name": "python3"
  },
  "language_info": {
   "codemirror_mode": {
    "name": "ipython",
    "version": 3
   },
   "file_extension": ".py",
   "mimetype": "text/x-python",
   "name": "python",
   "nbconvert_exporter": "python",
   "pygments_lexer": "ipython3",
   "version": "3.9.13"
  }
 },
 "nbformat": 4,
 "nbformat_minor": 5
}
