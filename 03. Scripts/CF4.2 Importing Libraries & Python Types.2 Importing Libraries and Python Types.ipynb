{
 "cells": [
  {
   "cell_type": "markdown",
   "id": "8ddd18c6",
   "metadata": {},
   "source": [
    "# 01.Importing Libraries"
   ]
  },
  {
   "cell_type": "code",
   "execution_count": null,
   "id": "89aa186c",
   "metadata": {},
   "outputs": [],
   "source": [
    "# Import libraries"
   ]
  },
  {
   "cell_type": "code",
   "execution_count": null,
   "id": "40e5b1fd",
   "metadata": {},
   "outputs": [],
   "source": [
    "import pandas as pd"
   ]
  },
  {
   "cell_type": "code",
   "execution_count": null,
   "id": "7992f9bf",
   "metadata": {},
   "outputs": [],
   "source": [
    "import numpy as np"
   ]
  },
  {
   "cell_type": "code",
   "execution_count": 1,
   "id": "226d751c",
   "metadata": {},
   "outputs": [],
   "source": [
    "import os"
   ]
  },
  {
   "cell_type": "markdown",
   "id": "41e103e9",
   "metadata": {},
   "source": [
    "# 02. Python Data Types"
   ]
  },
  {
   "cell_type": "code",
   "execution_count": 2,
   "id": "864a7041",
   "metadata": {},
   "outputs": [],
   "source": [
    " x = 2"
   ]
  },
  {
   "cell_type": "code",
   "execution_count": 5,
   "id": "b1c7c034",
   "metadata": {},
   "outputs": [
    {
     "data": {
      "text/plain": [
       "2"
      ]
     },
     "execution_count": 5,
     "metadata": {},
     "output_type": "execute_result"
    }
   ],
   "source": [
    "x"
   ]
  },
  {
   "cell_type": "code",
   "execution_count": 4,
   "id": "027f1c40",
   "metadata": {},
   "outputs": [
    {
     "name": "stdout",
     "output_type": "stream",
     "text": [
      "2\n"
     ]
    }
   ],
   "source": [
    "print(x)"
   ]
  },
  {
   "cell_type": "code",
   "execution_count": 6,
   "id": "00d1d83a",
   "metadata": {},
   "outputs": [
    {
     "data": {
      "text/plain": [
       "int"
      ]
     },
     "execution_count": 6,
     "metadata": {},
     "output_type": "execute_result"
    }
   ],
   "source": [
    "type(x)"
   ]
  },
  {
   "cell_type": "code",
   "execution_count": 7,
   "id": "6ac41cfa",
   "metadata": {},
   "outputs": [],
   "source": [
    "y=5.678"
   ]
  },
  {
   "cell_type": "code",
   "execution_count": 8,
   "id": "680a4b66",
   "metadata": {},
   "outputs": [
    {
     "data": {
      "text/plain": [
       "float"
      ]
     },
     "execution_count": 8,
     "metadata": {},
     "output_type": "execute_result"
    }
   ],
   "source": [
    "type(y)"
   ]
  },
  {
   "cell_type": "code",
   "execution_count": 19,
   "id": "fe479633",
   "metadata": {},
   "outputs": [],
   "source": [
    "z=\"Brazil\""
   ]
  },
  {
   "cell_type": "code",
   "execution_count": 18,
   "id": "1910cead",
   "metadata": {},
   "outputs": [
    {
     "data": {
      "text/plain": [
       "str"
      ]
     },
     "execution_count": 18,
     "metadata": {},
     "output_type": "execute_result"
    }
   ],
   "source": [
    "type('z')"
   ]
  },
  {
   "cell_type": "code",
   "execution_count": 20,
   "id": "36129f06",
   "metadata": {},
   "outputs": [
    {
     "data": {
      "text/plain": [
       "bool"
      ]
     },
     "execution_count": 20,
     "metadata": {},
     "output_type": "execute_result"
    }
   ],
   "source": [
    "type(True)"
   ]
  },
  {
   "cell_type": "code",
   "execution_count": 21,
   "id": "adcd0ddd",
   "metadata": {},
   "outputs": [
    {
     "data": {
      "text/plain": [
       "bool"
      ]
     },
     "execution_count": 21,
     "metadata": {},
     "output_type": "execute_result"
    }
   ],
   "source": [
    "type(False)"
   ]
  },
  {
   "cell_type": "code",
   "execution_count": 22,
   "id": "b096bfee",
   "metadata": {},
   "outputs": [
    {
     "data": {
      "text/plain": [
       "6"
      ]
     },
     "execution_count": 22,
     "metadata": {},
     "output_type": "execute_result"
    }
   ],
   "source": [
    "x+4"
   ]
  },
  {
   "cell_type": "code",
   "execution_count": 23,
   "id": "dc8e4cd8",
   "metadata": {},
   "outputs": [
    {
     "data": {
      "text/plain": [
       "7.678"
      ]
     },
     "execution_count": 23,
     "metadata": {},
     "output_type": "execute_result"
    }
   ],
   "source": [
    "x+y"
   ]
  },
  {
   "cell_type": "code",
   "execution_count": 24,
   "id": "e0ea9d2f",
   "metadata": {},
   "outputs": [],
   "source": [
    "x=x+4"
   ]
  },
  {
   "cell_type": "code",
   "execution_count": 25,
   "id": "32aef3e0",
   "metadata": {},
   "outputs": [
    {
     "name": "stdout",
     "output_type": "stream",
     "text": [
      "6\n"
     ]
    }
   ],
   "source": [
    "print(x)"
   ]
  },
  {
   "cell_type": "code",
   "execution_count": 26,
   "id": "48dd1184",
   "metadata": {},
   "outputs": [
    {
     "data": {
      "text/plain": [
       "False"
      ]
     },
     "execution_count": 26,
     "metadata": {},
     "output_type": "execute_result"
    }
   ],
   "source": [
    "x==y"
   ]
  },
  {
   "cell_type": "code",
   "execution_count": 27,
   "id": "d6580c0d",
   "metadata": {},
   "outputs": [
    {
     "data": {
      "text/plain": [
       "bool"
      ]
     },
     "execution_count": 27,
     "metadata": {},
     "output_type": "execute_result"
    }
   ],
   "source": [
    "type(x==y)"
   ]
  },
  {
   "cell_type": "code",
   "execution_count": 28,
   "id": "27488806",
   "metadata": {},
   "outputs": [
    {
     "data": {
      "text/plain": [
       "50"
      ]
     },
     "execution_count": 28,
     "metadata": {},
     "output_type": "execute_result"
    }
   ],
   "source": [
    "100-50"
   ]
  },
  {
   "cell_type": "code",
   "execution_count": 29,
   "id": "8986f14b",
   "metadata": {},
   "outputs": [
    {
     "data": {
      "text/plain": [
       "100"
      ]
     },
     "execution_count": 29,
     "metadata": {},
     "output_type": "execute_result"
    }
   ],
   "source": [
    "25*4"
   ]
  },
  {
   "cell_type": "code",
   "execution_count": 32,
   "id": "056a2f97",
   "metadata": {},
   "outputs": [
    {
     "data": {
      "text/plain": [
       "100"
      ]
     },
     "execution_count": 32,
     "metadata": {},
     "output_type": "execute_result"
    }
   ],
   "source": [
    "x*15+10"
   ]
  },
  {
   "cell_type": "code",
   "execution_count": 33,
   "id": "43665b0f",
   "metadata": {},
   "outputs": [
    {
     "data": {
      "text/plain": [
       "100.0"
      ]
     },
     "execution_count": 33,
     "metadata": {},
     "output_type": "execute_result"
    }
   ],
   "source": [
    "300/3"
   ]
  },
  {
   "cell_type": "code",
   "execution_count": 44,
   "id": "14af0636",
   "metadata": {},
   "outputs": [
    {
     "name": "stdout",
     "output_type": "stream",
     "text": [
      "3.5\n"
     ]
    }
   ],
   "source": [
    "s=3.5\n",
    "print(s)"
   ]
  },
  {
   "cell_type": "code",
   "execution_count": 46,
   "id": "9f14a0a8",
   "metadata": {},
   "outputs": [
    {
     "name": "stdout",
     "output_type": "stream",
     "text": [
      "6.9\n"
     ]
    }
   ],
   "source": [
    "f=6.9\n",
    "print(f)"
   ]
  },
  {
   "cell_type": "code",
   "execution_count": 47,
   "id": "926aa77e",
   "metadata": {},
   "outputs": [
    {
     "data": {
      "text/plain": [
       "float"
      ]
     },
     "execution_count": 47,
     "metadata": {},
     "output_type": "execute_result"
    }
   ],
   "source": [
    "type(f)"
   ]
  },
  {
   "cell_type": "code",
   "execution_count": 48,
   "id": "6cee713e",
   "metadata": {},
   "outputs": [
    {
     "data": {
      "text/plain": [
       "0.5072463768115941"
      ]
     },
     "execution_count": 48,
     "metadata": {},
     "output_type": "execute_result"
    }
   ],
   "source": [
    "s/f"
   ]
  },
  {
   "cell_type": "code",
   "execution_count": 49,
   "id": "f4e121ac",
   "metadata": {},
   "outputs": [],
   "source": [
    "a='Ste'"
   ]
  },
  {
   "cell_type": "code",
   "execution_count": 51,
   "id": "26ef7462",
   "metadata": {},
   "outputs": [],
   "source": [
    "b='fa'"
   ]
  },
  {
   "cell_type": "code",
   "execution_count": 52,
   "id": "512215fc",
   "metadata": {},
   "outputs": [],
   "source": [
    "c='nia'"
   ]
  },
  {
   "cell_type": "code",
   "execution_count": 53,
   "id": "6dc2e0f7",
   "metadata": {},
   "outputs": [
    {
     "data": {
      "text/plain": [
       "'Stefania'"
      ]
     },
     "execution_count": 53,
     "metadata": {},
     "output_type": "execute_result"
    }
   ],
   "source": [
    "a+b+c"
   ]
  },
  {
   "cell_type": "code",
   "execution_count": 64,
   "id": "a9f954b3",
   "metadata": {},
   "outputs": [],
   "source": [
    "d='Today '"
   ]
  },
  {
   "cell_type": "code",
   "execution_count": 56,
   "id": "37099509",
   "metadata": {},
   "outputs": [],
   "source": [
    "e='I am'"
   ]
  },
  {
   "cell_type": "code",
   "execution_count": 60,
   "id": "0191a99a",
   "metadata": {},
   "outputs": [],
   "source": [
    "g=' learning'"
   ]
  },
  {
   "cell_type": "code",
   "execution_count": 61,
   "id": "cf74e412",
   "metadata": {},
   "outputs": [],
   "source": [
    "h=' to code'"
   ]
  },
  {
   "cell_type": "code",
   "execution_count": 65,
   "id": "0094f3c5",
   "metadata": {},
   "outputs": [
    {
     "data": {
      "text/plain": [
       "'Today I am learning to code'"
      ]
     },
     "execution_count": 65,
     "metadata": {},
     "output_type": "execute_result"
    }
   ],
   "source": [
    "d+e+g+h"
   ]
  },
  {
   "cell_type": "code",
   "execution_count": 67,
   "id": "fd31debb",
   "metadata": {},
   "outputs": [],
   "source": [
    "i='Tomorrow I '"
   ]
  },
  {
   "cell_type": "code",
   "execution_count": 66,
   "id": "6426ff32",
   "metadata": {},
   "outputs": [],
   "source": [
    "j='will be'"
   ]
  },
  {
   "cell_type": "code",
   "execution_count": 68,
   "id": "da10adbd",
   "metadata": {},
   "outputs": [],
   "source": [
    "k=' BETTER!'"
   ]
  },
  {
   "cell_type": "code",
   "execution_count": 69,
   "id": "c0a87b9d",
   "metadata": {},
   "outputs": [
    {
     "data": {
      "text/plain": [
       "'Tomorrow I will be BETTER!'"
      ]
     },
     "execution_count": 69,
     "metadata": {},
     "output_type": "execute_result"
    }
   ],
   "source": [
    "i+j+k"
   ]
  },
  {
   "cell_type": "code",
   "execution_count": 71,
   "id": "5d74b202",
   "metadata": {},
   "outputs": [
    {
     "data": {
      "text/plain": [
       "'Tomorrow I will be BETTER!Tomorrow I will be BETTER!Tomorrow I will be BETTER!Tomorrow I will be BETTER!Tomorrow I will be BETTER!Tomorrow I will be BETTER!Tomorrow I will be BETTER!Tomorrow I will be BETTER!Tomorrow I will be BETTER!Tomorrow I will be BETTER!Tomorrow I will be BETTER!Tomorrow I will be BETTER!Tomorrow I will be BETTER!Tomorrow I will be BETTER!Tomorrow I will be BETTER!Tomorrow I will be BETTER!Tomorrow I will be BETTER!Tomorrow I will be BETTER!Tomorrow I will be BETTER!Tomorrow I will be BETTER!Tomorrow I will be BETTER!Tomorrow I will be BETTER!Tomorrow I will be BETTER!Tomorrow I will be BETTER!Tomorrow I will be BETTER!Tomorrow I will be BETTER!Tomorrow I will be BETTER!Tomorrow I will be BETTER!Tomorrow I will be BETTER!Tomorrow I will be BETTER!Tomorrow I will be BETTER!Tomorrow I will be BETTER!Tomorrow I will be BETTER!Tomorrow I will be BETTER!Tomorrow I will be BETTER!Tomorrow I will be BETTER!Tomorrow I will be BETTER!Tomorrow I will be BETTER!Tomorrow I will be BETTER!Tomorrow I will be BETTER!Tomorrow I will be BETTER!Tomorrow I will be BETTER!Tomorrow I will be BETTER!Tomorrow I will be BETTER!Tomorrow I will be BETTER!Tomorrow I will be BETTER!Tomorrow I will be BETTER!Tomorrow I will be BETTER!Tomorrow I will be BETTER!Tomorrow I will be BETTER!Tomorrow I will be BETTER!Tomorrow I will be BETTER!Tomorrow I will be BETTER!Tomorrow I will be BETTER!Tomorrow I will be BETTER!Tomorrow I will be BETTER!Tomorrow I will be BETTER!Tomorrow I will be BETTER!Tomorrow I will be BETTER!Tomorrow I will be BETTER!Tomorrow I will be BETTER!Tomorrow I will be BETTER!Tomorrow I will be BETTER!Tomorrow I will be BETTER!Tomorrow I will be BETTER!Tomorrow I will be BETTER!Tomorrow I will be BETTER!Tomorrow I will be BETTER!Tomorrow I will be BETTER!Tomorrow I will be BETTER!Tomorrow I will be BETTER!Tomorrow I will be BETTER!Tomorrow I will be BETTER!Tomorrow I will be BETTER!Tomorrow I will be BETTER!Tomorrow I will be BETTER!Tomorrow I will be BETTER!Tomorrow I will be BETTER!Tomorrow I will be BETTER!Tomorrow I will be BETTER!Tomorrow I will be BETTER!Tomorrow I will be BETTER!Tomorrow I will be BETTER!Tomorrow I will be BETTER!Tomorrow I will be BETTER!Tomorrow I will be BETTER!Tomorrow I will be BETTER!Tomorrow I will be BETTER!Tomorrow I will be BETTER!Tomorrow I will be BETTER!Tomorrow I will be BETTER!Tomorrow I will be BETTER!Tomorrow I will be BETTER!Tomorrow I will be BETTER!Tomorrow I will be BETTER!Tomorrow I will be BETTER!Tomorrow I will be BETTER!Tomorrow I will be BETTER!Tomorrow I will be BETTER!Tomorrow I will be BETTER!'"
      ]
     },
     "execution_count": 71,
     "metadata": {},
     "output_type": "execute_result"
    }
   ],
   "source": [
    "(i+j+k)*100"
   ]
  },
  {
   "cell_type": "code",
   "execution_count": null,
   "id": "61e8a20b",
   "metadata": {},
   "outputs": [],
   "source": []
  }
 ],
 "metadata": {
  "kernelspec": {
   "display_name": "Python 3 (ipykernel)",
   "language": "python",
   "name": "python3"
  },
  "language_info": {
   "codemirror_mode": {
    "name": "ipython",
    "version": 3
   },
   "file_extension": ".py",
   "mimetype": "text/x-python",
   "name": "python",
   "nbconvert_exporter": "python",
   "pygments_lexer": "ipython3",
   "version": "3.9.13"
  }
 },
 "nbformat": 4,
 "nbformat_minor": 5
}
