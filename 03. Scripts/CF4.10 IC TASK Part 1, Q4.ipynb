{
 "cells": [
  {
   "cell_type": "markdown",
   "id": "235a0676",
   "metadata": {},
   "source": [
    "# Importing libraries, ords_prods_custs_region & checking outcome"
   ]
  },
  {
   "cell_type": "code",
   "execution_count": 1,
   "id": "4a8e560c",
   "metadata": {},
   "outputs": [],
   "source": [
    "import pandas as pd\n",
    "import numpy as np\n",
    "import os\n",
    "import matplotlib.pyplot as plt\n",
    "import seaborn as sns\n",
    "import scipy"
   ]
  },
  {
   "cell_type": "code",
   "execution_count": 2,
   "id": "5566a564",
   "metadata": {},
   "outputs": [],
   "source": [
    "path=r'/Users/stefaniadaskalaki/Data Immersion/4 Achievement Python/CF4.2 Instacart Basket Analysis'"
   ]
  },
  {
   "cell_type": "code",
   "execution_count": 3,
   "id": "9627b21b",
   "metadata": {},
   "outputs": [],
   "source": [
    "df_ords_prods_custs_region=pd.read_pickle(os.path.join(path, '02. Data', '02. Prepared Data', 'ords_prods_custs_region.pkl'))"
   ]
  },
  {
   "cell_type": "code",
   "execution_count": 4,
   "id": "811260f7",
   "metadata": {},
   "outputs": [
    {
     "name": "stdout",
     "output_type": "stream",
     "text": [
      "<class 'pandas.core.frame.DataFrame'>\n",
      "Int64Index: 32404859 entries, 0 to 32404858\n",
      "Data columns (total 35 columns):\n",
      " #   Column                       Dtype   \n",
      "---  ------                       -----   \n",
      " 0   order_id                     object  \n",
      " 1   user_id                      object  \n",
      " 2   order_number                 object  \n",
      " 3   order_day_of_week            object  \n",
      " 4   order_hour_of_day            object  \n",
      " 5   days_since_prior_order       float32 \n",
      " 6   new_customer                 bool    \n",
      " 7   product_id                   object  \n",
      " 8   add_to_cart_order            int16   \n",
      " 9   reordered                    int8    \n",
      " 10  product_name                 object  \n",
      " 11  aisle_id                     object  \n",
      " 12  department_id                object  \n",
      " 13  prices                       float32 \n",
      " 14  price_range_loc              object  \n",
      " 15  Busiest_day                  object  \n",
      " 16  Busiest_days                 object  \n",
      " 17  busiest_period_of_day        object  \n",
      " 18  max_order                    int8    \n",
      " 19  loyalty_flag                 object  \n",
      " 20  avg_price                    float32 \n",
      " 21  spending_flag                object  \n",
      " 22  frequency_order_median       float32 \n",
      " 23  frequency_order_median_flag  object  \n",
      " 24  first_name                   object  \n",
      " 25  surname                      object  \n",
      " 26  gender                       object  \n",
      " 27  state                        object  \n",
      " 28  age                          int8    \n",
      " 29  date_joined                  object  \n",
      " 30  n_dependants                 int8    \n",
      " 31  fam_status                   object  \n",
      " 32  income                       int32   \n",
      " 33  exists                       category\n",
      " 34  region                       object  \n",
      "dtypes: bool(1), category(1), float32(4), int16(1), int32(1), int8(4), object(23)\n",
      "memory usage: 6.6+ GB\n"
     ]
    }
   ],
   "source": [
    "df_ords_prods_custs_region.info()"
   ]
  },
  {
   "cell_type": "markdown",
   "id": "4e748d77",
   "metadata": {},
   "source": [
    "# 4. The Instacart CFO isn’t interested in customers who don’t generate much revenue for the app. Create an exclusion flag for low-activity customers (customers with less than 5 orders) and exclude them from the data. Make sure you export this sample."
   ]
  },
  {
   "cell_type": "markdown",
   "id": "0473ed47",
   "metadata": {},
   "source": [
    "## Creating low and high activity flag with the loc function and checking outcome"
   ]
  },
  {
   "cell_type": "code",
   "execution_count": 5,
   "id": "5ca63e12",
   "metadata": {},
   "outputs": [],
   "source": [
    "df_ords_prods_custs_region.loc[df_ords_prods_custs_region['max_order'] < 5, 'activity_flag']='Low activity'"
   ]
  },
  {
   "cell_type": "code",
   "execution_count": 6,
   "id": "61639e60",
   "metadata": {},
   "outputs": [],
   "source": [
    "df_ords_prods_custs_region.loc[df_ords_prods_custs_region['max_order'] >= 5, 'activity_flag']='High activity'"
   ]
  },
  {
   "cell_type": "code",
   "execution_count": 7,
   "id": "5466e4ce",
   "metadata": {},
   "outputs": [
    {
     "data": {
      "text/plain": [
       "0           High activity\n",
       "1           High activity\n",
       "2           High activity\n",
       "3           High activity\n",
       "4           High activity\n",
       "                ...      \n",
       "32404854    High activity\n",
       "32404855     Low activity\n",
       "32404856     Low activity\n",
       "32404857     Low activity\n",
       "32404858     Low activity\n",
       "Name: activity_flag, Length: 32404859, dtype: object"
      ]
     },
     "execution_count": 7,
     "metadata": {},
     "output_type": "execute_result"
    }
   ],
   "source": [
    "df_ords_prods_custs_region['activity_flag']"
   ]
  },
  {
   "cell_type": "code",
   "execution_count": 8,
   "id": "baf93353",
   "metadata": {},
   "outputs": [
    {
     "data": {
      "text/plain": [
       "High activity    30964564\n",
       "Low activity      1440295\n",
       "Name: activity_flag, dtype: int64"
      ]
     },
     "execution_count": 8,
     "metadata": {},
     "output_type": "execute_result"
    }
   ],
   "source": [
    "df_ords_prods_custs_region['activity_flag'].value_counts()"
   ]
  },
  {
   "cell_type": "markdown",
   "id": "63e6aace",
   "metadata": {},
   "source": [
    "### Creating subset excluding 'low activity' customers"
   ]
  },
  {
   "cell_type": "code",
   "execution_count": 9,
   "id": "7498d9c2",
   "metadata": {},
   "outputs": [],
   "source": [
    "df_act_cust = df_ords_prods_custs_region[df_ords_prods_custs_region['activity_flag'] == 'High activity']"
   ]
  },
  {
   "cell_type": "code",
   "execution_count": 10,
   "id": "573aea28",
   "metadata": {
    "scrolled": true
   },
   "outputs": [
    {
     "data": {
      "text/html": [
       "<div>\n",
       "<style scoped>\n",
       "    .dataframe tbody tr th:only-of-type {\n",
       "        vertical-align: middle;\n",
       "    }\n",
       "\n",
       "    .dataframe tbody tr th {\n",
       "        vertical-align: top;\n",
       "    }\n",
       "\n",
       "    .dataframe thead th {\n",
       "        text-align: right;\n",
       "    }\n",
       "</style>\n",
       "<table border=\"1\" class=\"dataframe\">\n",
       "  <thead>\n",
       "    <tr style=\"text-align: right;\">\n",
       "      <th></th>\n",
       "      <th>order_id</th>\n",
       "      <th>user_id</th>\n",
       "      <th>order_number</th>\n",
       "      <th>order_day_of_week</th>\n",
       "      <th>order_hour_of_day</th>\n",
       "      <th>days_since_prior_order</th>\n",
       "      <th>new_customer</th>\n",
       "      <th>product_id</th>\n",
       "      <th>add_to_cart_order</th>\n",
       "      <th>reordered</th>\n",
       "      <th>...</th>\n",
       "      <th>gender</th>\n",
       "      <th>state</th>\n",
       "      <th>age</th>\n",
       "      <th>date_joined</th>\n",
       "      <th>n_dependants</th>\n",
       "      <th>fam_status</th>\n",
       "      <th>income</th>\n",
       "      <th>exists</th>\n",
       "      <th>region</th>\n",
       "      <th>activity_flag</th>\n",
       "    </tr>\n",
       "  </thead>\n",
       "  <tbody>\n",
       "    <tr>\n",
       "      <th>0</th>\n",
       "      <td>2539329</td>\n",
       "      <td>1</td>\n",
       "      <td>1</td>\n",
       "      <td>2</td>\n",
       "      <td>8</td>\n",
       "      <td>NaN</td>\n",
       "      <td>True</td>\n",
       "      <td>196</td>\n",
       "      <td>1</td>\n",
       "      <td>0</td>\n",
       "      <td>...</td>\n",
       "      <td>Female</td>\n",
       "      <td>Alabama</td>\n",
       "      <td>31</td>\n",
       "      <td>2/17/2019</td>\n",
       "      <td>3</td>\n",
       "      <td>married</td>\n",
       "      <td>40423</td>\n",
       "      <td>both</td>\n",
       "      <td>South</td>\n",
       "      <td>High activity</td>\n",
       "    </tr>\n",
       "    <tr>\n",
       "      <th>1</th>\n",
       "      <td>2398795</td>\n",
       "      <td>1</td>\n",
       "      <td>2</td>\n",
       "      <td>3</td>\n",
       "      <td>7</td>\n",
       "      <td>15.0</td>\n",
       "      <td>False</td>\n",
       "      <td>196</td>\n",
       "      <td>1</td>\n",
       "      <td>1</td>\n",
       "      <td>...</td>\n",
       "      <td>Female</td>\n",
       "      <td>Alabama</td>\n",
       "      <td>31</td>\n",
       "      <td>2/17/2019</td>\n",
       "      <td>3</td>\n",
       "      <td>married</td>\n",
       "      <td>40423</td>\n",
       "      <td>both</td>\n",
       "      <td>South</td>\n",
       "      <td>High activity</td>\n",
       "    </tr>\n",
       "    <tr>\n",
       "      <th>2</th>\n",
       "      <td>473747</td>\n",
       "      <td>1</td>\n",
       "      <td>3</td>\n",
       "      <td>3</td>\n",
       "      <td>12</td>\n",
       "      <td>21.0</td>\n",
       "      <td>False</td>\n",
       "      <td>196</td>\n",
       "      <td>1</td>\n",
       "      <td>1</td>\n",
       "      <td>...</td>\n",
       "      <td>Female</td>\n",
       "      <td>Alabama</td>\n",
       "      <td>31</td>\n",
       "      <td>2/17/2019</td>\n",
       "      <td>3</td>\n",
       "      <td>married</td>\n",
       "      <td>40423</td>\n",
       "      <td>both</td>\n",
       "      <td>South</td>\n",
       "      <td>High activity</td>\n",
       "    </tr>\n",
       "    <tr>\n",
       "      <th>3</th>\n",
       "      <td>2254736</td>\n",
       "      <td>1</td>\n",
       "      <td>4</td>\n",
       "      <td>4</td>\n",
       "      <td>7</td>\n",
       "      <td>29.0</td>\n",
       "      <td>False</td>\n",
       "      <td>196</td>\n",
       "      <td>1</td>\n",
       "      <td>1</td>\n",
       "      <td>...</td>\n",
       "      <td>Female</td>\n",
       "      <td>Alabama</td>\n",
       "      <td>31</td>\n",
       "      <td>2/17/2019</td>\n",
       "      <td>3</td>\n",
       "      <td>married</td>\n",
       "      <td>40423</td>\n",
       "      <td>both</td>\n",
       "      <td>South</td>\n",
       "      <td>High activity</td>\n",
       "    </tr>\n",
       "    <tr>\n",
       "      <th>4</th>\n",
       "      <td>431534</td>\n",
       "      <td>1</td>\n",
       "      <td>5</td>\n",
       "      <td>4</td>\n",
       "      <td>15</td>\n",
       "      <td>28.0</td>\n",
       "      <td>False</td>\n",
       "      <td>196</td>\n",
       "      <td>1</td>\n",
       "      <td>1</td>\n",
       "      <td>...</td>\n",
       "      <td>Female</td>\n",
       "      <td>Alabama</td>\n",
       "      <td>31</td>\n",
       "      <td>2/17/2019</td>\n",
       "      <td>3</td>\n",
       "      <td>married</td>\n",
       "      <td>40423</td>\n",
       "      <td>both</td>\n",
       "      <td>South</td>\n",
       "      <td>High activity</td>\n",
       "    </tr>\n",
       "  </tbody>\n",
       "</table>\n",
       "<p>5 rows × 36 columns</p>\n",
       "</div>"
      ],
      "text/plain": [
       "  order_id user_id order_number order_day_of_week order_hour_of_day  \\\n",
       "0  2539329       1            1                 2                 8   \n",
       "1  2398795       1            2                 3                 7   \n",
       "2   473747       1            3                 3                12   \n",
       "3  2254736       1            4                 4                 7   \n",
       "4   431534       1            5                 4                15   \n",
       "\n",
       "   days_since_prior_order  new_customer product_id  add_to_cart_order  \\\n",
       "0                     NaN          True        196                  1   \n",
       "1                    15.0         False        196                  1   \n",
       "2                    21.0         False        196                  1   \n",
       "3                    29.0         False        196                  1   \n",
       "4                    28.0         False        196                  1   \n",
       "\n",
       "   reordered  ...  gender    state age  date_joined n_dependants fam_status  \\\n",
       "0          0  ...  Female  Alabama  31    2/17/2019            3    married   \n",
       "1          1  ...  Female  Alabama  31    2/17/2019            3    married   \n",
       "2          1  ...  Female  Alabama  31    2/17/2019            3    married   \n",
       "3          1  ...  Female  Alabama  31    2/17/2019            3    married   \n",
       "4          1  ...  Female  Alabama  31    2/17/2019            3    married   \n",
       "\n",
       "  income exists  region  activity_flag  \n",
       "0  40423   both   South  High activity  \n",
       "1  40423   both   South  High activity  \n",
       "2  40423   both   South  High activity  \n",
       "3  40423   both   South  High activity  \n",
       "4  40423   both   South  High activity  \n",
       "\n",
       "[5 rows x 36 columns]"
      ]
     },
     "execution_count": 10,
     "metadata": {},
     "output_type": "execute_result"
    }
   ],
   "source": [
    "df_act_cust.head()"
   ]
  },
  {
   "cell_type": "markdown",
   "id": "a3b5544f",
   "metadata": {},
   "source": [
    "### Exporting subset high activity customers excluding low activity"
   ]
  },
  {
   "cell_type": "code",
   "execution_count": 11,
   "id": "495f88f0",
   "metadata": {},
   "outputs": [],
   "source": [
    "df_act_cust.to_pickle(os.path.join(path, '02. Data','02. Prepared Data', 'high_activ_cust.pkl'))"
   ]
  }
 ],
 "metadata": {
  "kernelspec": {
   "display_name": "Python 3 (ipykernel)",
   "language": "python",
   "name": "python3"
  },
  "language_info": {
   "codemirror_mode": {
    "name": "ipython",
    "version": 3
   },
   "file_extension": ".py",
   "mimetype": "text/x-python",
   "name": "python",
   "nbconvert_exporter": "python",
   "pygments_lexer": "ipython3",
   "version": "3.9.13"
  }
 },
 "nbformat": 4,
 "nbformat_minor": 5
}
